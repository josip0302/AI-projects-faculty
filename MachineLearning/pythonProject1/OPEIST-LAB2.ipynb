{
 "cells": [
  {
   "cell_type": "code",
   "execution_count": 20,
   "outputs": [],
   "source": [
    "import numpy as np\n",
    "from pulp import *\n",
    "np.random.seed(3653009121)\n",
    "mali_costs = np.random.randint(low=0, high=20, size=(8,8))\n",
    "#print(mali_costs)\n",
    "\n",
    "def construct_problem(costs):\n",
    "    workers=np.arange(0, len(costs))\n",
    "   \n",
    "    jobs=np.arange(0, len(costs))\n",
    "    prob = LpProblem(\"Assignment Problem\", LpMinimize) \n",
    "    costsDict= makeDict([workers, jobs], costs, 0)\n",
    "    assign = [(w, j) for w in workers for j in jobs]\n",
    "    vars = LpVariable.dicts(\"Assign\", (workers, jobs), 0, None, LpBinary)\n",
    "    prob += (\n",
    "       lpSum([vars[w][j] * costsDict[w][j] for (w, j) in assign]),\n",
    "       \"Sum_of_Assignment_Costs\",\n",
    "     )\n",
    "    for j in jobs:\n",
    "        prob+= lpSum(vars[w][j] for w in workers) == 1\n",
    "    for w in workers:\n",
    "        prob+= lpSum(vars[w][j] for j in jobs) == 1\n",
    "    return prob   \n",
    "        \n",
    "def solve_LP(model):\n",
    "    return model.solve(PULP_CBC_CMD(msg=0))\n",
    "def solve_CP(model):\n",
    "    solver = PULP_CHOCO_CMD(msg=0)\n",
    "    return model.solve(solver)\n",
    "veliki_costs=np.random.randint(low=0, high=20, size=(16,16))\n",
    "#print(veliki_costs)\n",
    "#construct_problem(mali_costs)"
   ],
   "metadata": {
    "collapsed": false,
    "ExecuteTime": {
     "end_time": "2024-01-02T17:45:11.286416600Z",
     "start_time": "2024-01-02T17:45:11.261447400Z"
    }
   },
   "id": "88abdc4fc9d896a5"
  },
  {
   "cell_type": "code",
   "execution_count": null,
   "outputs": [],
   "source": [
    "from typing import Tuple\n",
    "import numpy as np\n",
    "INF = 10 ** 6 - 1\n",
    "def wfi(weight_matrix: np.ndarray, start: int, end: int) -> Tuple[np.ndarray, list]:\n",
    "    \"\"\"\n",
    "    Implementation of the WFI algorithm with recreation of the route between two edges.\n",
    "    Args:\n",
    "        weight_matrix (np.ndarray): Weight matrix representation of the graph.\n",
    "        start (int): Starting node in the route.\n",
    "        end (int): Ending node in the route.\n",
    "    Returns:\n",
    "        np.ndarray: Distance matrix of the WFI algorithm.\n",
    "        list: List of nodes on the route between starting and ending node including starting\n",
    "            and ending node.\n",
    "    \"\"\"\n",
    "    distance = weight_matrix\n",
    "    next = np.full_like(weight_matrix, -1) #init all values to -1\n",
    "\n",
    "    #TODO: Implement the rest of the function.\n",
    "\n",
    "    #initialize the next matrix - assign value where the distance is not inf\n",
    "    N = len(distance)\n",
    "    for i in range(N):\n",
    "        for j in range(N):\n",
    "            if i == j:\n",
    "                next[i][j]=0\n",
    "            elif distance[i][j] != INF:\n",
    "                 next[i][j]=distance[i][j]\n",
    "    \n",
    "    #WFI algorithm implementation with the next array update\n",
    "    for k in range(N):\n",
    "        for i in range(N):\n",
    "            for j in range(N):\n",
    "                if (distance[i][k] == INF or distance[k][j] == INF):\n",
    "                    continue\n",
    "                if (distance[i][j] > distance[i][k] + distance[k][j]):\n",
    "                    distance[i][j] = distance[i][k] + distance[k][j]\n",
    "                    next[i][j] = next[i][k]\n",
    "\n",
    "    #reconstruct the shortest path from start to end - create a list named path\n",
    "    u=start\n",
    "    v=end\n",
    "    if (next[u][v] == -1):\n",
    "        path = [u]\n",
    "    else:\n",
    "        path = [u]\n",
    "        while (u != v):\n",
    "         u = next[u][v]\n",
    "         path.append(u)\n",
    "    # Storing the path in a vector\n",
    "    \n",
    "    return distance, path\n",
    "\n",
    "\n",
    "\n",
    "W = [[0, 2, INF, INF],\n",
    "    [INF, 0, 3, -1],\n",
    "    [-1, INF, 0, 7],\n",
    "    [3, INF, INF, 0]]\n",
    "\n",
    "distance, path = wfi(W, 0, 3)\n",
    "\n",
    "assert distance == [[0, 2, 5, 1], [2, 0, 3, -1], [-1, 1, 0, 0], [3, 5, 8, 0]]\n",
    "assert path == [0, 1, 3]"
   ],
   "metadata": {
    "collapsed": false,
    "is_executing": true,
    "ExecuteTime": {
     "start_time": "2024-01-17T13:36:52.342424Z"
    }
   },
   "id": "47b62282e40c338c"
  },
  {
   "cell_type": "code",
   "execution_count": 5,
   "outputs": [
    {
     "ename": "KeyboardInterrupt",
     "evalue": "",
     "output_type": "error",
     "traceback": [
      "\u001B[1;31m---------------------------------------------------------------------------\u001B[0m",
      "\u001B[1;31mKeyboardInterrupt\u001B[0m                         Traceback (most recent call last)",
      "Cell \u001B[1;32mIn[5], line 52\u001B[0m\n\u001B[0;32m     48\u001B[0m \u001B[38;5;28;01mimport\u001B[39;00m \u001B[38;5;21;01mcopy\u001B[39;00m\n\u001B[0;32m     50\u001B[0m G1 \u001B[38;5;241m=\u001B[39m copy\u001B[38;5;241m.\u001B[39mdeepcopy(G)\n\u001B[1;32m---> 52\u001B[0m path, circles \u001B[38;5;241m=\u001B[39m \u001B[43maugmented_hierholzer\u001B[49m\u001B[43m(\u001B[49m\u001B[43mG1\u001B[49m\u001B[43m,\u001B[49m\u001B[43m \u001B[49m\u001B[38;5;124;43m'\u001B[39;49m\u001B[38;5;124;43mb\u001B[39;49m\u001B[38;5;124;43m'\u001B[39;49m\u001B[43m)\u001B[49m\n\u001B[0;32m     53\u001B[0m path\u001B[38;5;241m.\u001B[39mreverse()\n\u001B[0;32m     55\u001B[0m \u001B[38;5;28;01massert\u001B[39;00m path \u001B[38;5;241m==\u001B[39m [\u001B[38;5;124m'\u001B[39m\u001B[38;5;124mb\u001B[39m\u001B[38;5;124m'\u001B[39m, \u001B[38;5;124m'\u001B[39m\u001B[38;5;124ma\u001B[39m\u001B[38;5;124m'\u001B[39m, \u001B[38;5;124m'\u001B[39m\u001B[38;5;124mc\u001B[39m\u001B[38;5;124m'\u001B[39m, \u001B[38;5;124m'\u001B[39m\u001B[38;5;124me\u001B[39m\u001B[38;5;124m'\u001B[39m, \u001B[38;5;124m'\u001B[39m\u001B[38;5;124ma\u001B[39m\u001B[38;5;124m'\u001B[39m, \u001B[38;5;124m'\u001B[39m\u001B[38;5;124md\u001B[39m\u001B[38;5;124m'\u001B[39m, \u001B[38;5;124m'\u001B[39m\u001B[38;5;124mb\u001B[39m\u001B[38;5;124m'\u001B[39m, \u001B[38;5;124m'\u001B[39m\u001B[38;5;124me\u001B[39m\u001B[38;5;124m'\u001B[39m, \u001B[38;5;124m'\u001B[39m\u001B[38;5;124md\u001B[39m\u001B[38;5;124m'\u001B[39m]\n",
      "Cell \u001B[1;32mIn[5], line 25\u001B[0m, in \u001B[0;36maugmented_hierholzer\u001B[1;34m(G, start)\u001B[0m\n\u001B[0;32m     23\u001B[0m cycle \u001B[38;5;241m=\u001B[39m []\n\u001B[0;32m     24\u001B[0m cycle\u001B[38;5;241m.\u001B[39mappend(start)\n\u001B[1;32m---> 25\u001B[0m \u001B[38;5;28;01mwhile\u001B[39;00m stack:\n\u001B[0;32m     26\u001B[0m     u \u001B[38;5;241m=\u001B[39m stack[\u001B[38;5;241m-\u001B[39m\u001B[38;5;241m1\u001B[39m]\n\u001B[0;32m     27\u001B[0m     adj \u001B[38;5;241m=\u001B[39m G[u]\n",
      "\u001B[1;31mKeyboardInterrupt\u001B[0m: "
     ]
    }
   ],
   "source": [
    "from collections import deque\n",
    "from typing import List, Dict, Tuple\n",
    "\n",
    "\n",
    "Graph = Dict[str, List[str]]\n",
    "Circuit = List[str]\n",
    "EulerPath = List[str]\n",
    "\n",
    "\n",
    "def augmented_hierholzer(G: Graph, start: str) -> Tuple[EulerPath, List[Circuit]]:\n",
    "    \"\"\"\n",
    "    Args:\n",
    "        G (Graph): A Graph as an adjacency matrix. Assumed to be Eulerian.\n",
    "        start (str): Starting node for the Hierholzer algorithm.\n",
    "    Returns:\n",
    "        Tuple[EulerPath, List[Circuit]]: A tuple containing an Eulerian path in the Euler graph\n",
    "        and a list of all the circuits found on the path.\n",
    "    \"\"\"\n",
    "    stack = deque()\n",
    "    stack.append(start)\n",
    "    \n",
    "    #TODO: \n",
    "    cycle = []\n",
    "    cycle.append(start)\n",
    "    while stack:\n",
    "        u = stack[-1]\n",
    "        adj = G[u]\n",
    "        if len(adj) > 0:\n",
    "            v = G[u][0]\n",
    "            stack.append(v)\n",
    "            G[u].remove(v)\n",
    "            G[v].remove(u)\n",
    "        else:\n",
    "            #TODO:\n",
    "            if(len(stack)>1):\n",
    "              cycle.append(stack[-1])\n",
    "              cycle.append(stack[-2])\n",
    "              stack.pop()\n",
    "     \n",
    "    return stack,cycle\n",
    "\n",
    "G = {'a': ['b', 'c', 'd', 'e'],\n",
    "     'b': ['a', 'd', 'e'],\n",
    "     'c': ['a', 'e'],\n",
    "     'd': ['a', 'b', 'e'],\n",
    "     'e': ['a', 'b', 'c', 'd']}\n",
    "     \n",
    "import copy\n",
    "\n",
    "G1 = copy.deepcopy(G)\n",
    "\n",
    "path, circles = augmented_hierholzer(G1, 'b')\n",
    "path.reverse()\n",
    "\n",
    "assert path == ['b', 'a', 'c', 'e', 'a', 'd', 'b', 'e', 'd']\n",
    "assert circles == [['d', 'e', 'b', 'd'], ['e', 'b', 'd', 'a', 'e'], ['a', 'e', 'c', 'a'], ['b', 'd', 'a', 'e', 'c', 'a', 'b']]\n",
    "\n"
   ],
   "metadata": {
    "collapsed": false,
    "ExecuteTime": {
     "end_time": "2024-01-25T08:44:41.288457900Z",
     "start_time": "2024-01-25T08:41:47.065121900Z"
    }
   },
   "id": "82111f4ec0e4d9c7"
  },
  {
   "cell_type": "code",
   "execution_count": null,
   "outputs": [],
   "source": [
    "import pandas as pd\n",
    "a=[]\n",
    "for i in range(0,31):\n",
    "  a.apendd(i)\n",
    "OutputDataSet = pd.DataFrame(a);"
   ],
   "metadata": {
    "collapsed": false,
    "is_executing": true
   },
   "id": "ba471289e1ab7f39"
  },
  {
   "cell_type": "code",
   "execution_count": null,
   "outputs": [],
   "source": [],
   "metadata": {
    "collapsed": false
   },
   "id": "cb5f4506958f8e17"
  }
 ],
 "metadata": {
  "kernelspec": {
   "display_name": "Python 3",
   "language": "python",
   "name": "python3"
  },
  "language_info": {
   "codemirror_mode": {
    "name": "ipython",
    "version": 2
   },
   "file_extension": ".py",
   "mimetype": "text/x-python",
   "name": "python",
   "nbconvert_exporter": "python",
   "pygments_lexer": "ipython2",
   "version": "2.7.6"
  }
 },
 "nbformat": 4,
 "nbformat_minor": 5
}
