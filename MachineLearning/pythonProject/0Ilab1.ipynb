{
 "cells": [
  {
   "cell_type": "markdown",
   "source": [
    "### 1. laboratorijska vježba operacijska istraživanja\n",
    "Josip Došen 0036530091"
   ],
   "metadata": {
    "collapsed": false
   },
   "id": "f055051d042358b2"
  },
  {
   "cell_type": "markdown",
   "source": [
    "Neka poduzeće Crni lug proizvodi tri tipa deterdženata D1, D2 i D3. Sa trgovačkom mrežom ugovorena je isporuka točno 100 kg deterdženata bez obzira na tip. Odlučeno je da se za proizvodnju ovih deterdženata radnici moraju uposliti na najmanje 120 radnih sati, a zna se da je za proizvodnju nužno uložiti 2, 1 odnosno 1 radni sat po kilogramu deterdženata D1, D2 i D3. Također se raspolaže sa 110 eura za uvoz odgovarajućeg repromaterijala. Po jednom kilogramu deterdženta treba nabaviti repromaterijala u iznosu od 2, 1.5 i 0.5 eura za deterdžente D1, D2 i D3. Odrediti optimalni plan proizvodnje ukoliko se zna da prodajne cijene ovih deterdženata iznose 20, 10 odnosno 5 eura po kilogramu za detrdžente D1, D2 i D3."
   ],
   "metadata": {
    "collapsed": false
   },
   "id": "96acad1fbc86ec52"
  },
  {
   "cell_type": "code",
   "execution_count": 22,
   "outputs": [],
   "source": [
    "from scipy.optimize import linprog"
   ],
   "metadata": {
    "collapsed": false,
    "ExecuteTime": {
     "end_time": "2023-11-09T17:43:56.660689900Z",
     "start_time": "2023-11-09T17:43:56.623121800Z"
    }
   },
   "id": "c9387b5660335531"
  },
  {
   "cell_type": "markdown",
   "source": [
    "### 1.1 Rješenje koristeći simplex\n",
    "\n",
    "Naše jednadžbe su:\n",
    " \n",
    "x1,x2,x3 su iznosi svakog D1,D2,D3 u kilogramima \n",
    "\n",
    "1. x1 + x2 + x3 = 100\n",
    "2. 2*x1 + x2 + x3 >= 120\n",
    "3. 2*x1 + 1.5*x2 + 0.5*x3 <= 110\n",
    "\n",
    "Tražimo maksimum za\n",
    "z = 20x1 + 10x2 + 5x3 \n",
    "\n",
    "Pošto linprog nemože maksimizirati mi ćemo pomnožiti cilj s -1 i tražiti minimum za\n",
    "\n",
    "z = -20x1 - 10x2 - 5x3 \n",
    "\n",
    "također ćemo jednadžbu pod 2. morati pomnožiti s -1 da se okrene znak jednakosti\n",
    "i dobit ćemo\n",
    "\n",
    "-2*x1 - x2 - x3 <= -120\n"
   ],
   "metadata": {
    "collapsed": false
   },
   "id": "ccfb286cf1ffdce7"
  },
  {
   "cell_type": "code",
   "execution_count": 23,
   "outputs": [
    {
     "name": "stderr",
     "output_type": "stream",
     "text": [
      "C:\\Users\\Josip\\AppData\\Local\\Temp\\ipykernel_15904\\4184074175.py:11: DeprecationWarning:\n",
      "\n",
      "`method='simplex'` is deprecated and will be removed in SciPy 1.11.0. Please use one of the HiGHS solvers (e.g. `method='highs'`) in new code.\n",
      "\n"
     ]
    },
    {
     "data": {
      "text/plain": " message: Optimization terminated successfully.\n success: True\n  status: 0\n     fun: -1100.0\n       x: [ 4.000e+01  0.000e+00  6.000e+01]\n     nit: 3"
     },
     "execution_count": 23,
     "metadata": {},
     "output_type": "execute_result"
    }
   ],
   "source": [
    "obj=[-20,-10,-5]\n",
    "\n",
    "lhs=[[1,1,1],\n",
    "     [-2,-1,-1],\n",
    "     [2,1.5,0.5]]\n",
    "\n",
    "rhs=[100,-120,110]\n",
    "\n",
    "bnd=[(0,float('inf')),(0,float('inf'))]\n",
    "\n",
    "optimizacija=linprog(c=obj,A_ub=lhs,b_ub=rhs,method='simplex')\n",
    "\n",
    "optimizacija\n",
    "\n"
   ],
   "metadata": {
    "collapsed": false,
    "ExecuteTime": {
     "end_time": "2023-11-09T17:44:11.471036Z",
     "start_time": "2023-11-09T17:44:11.443854900Z"
    }
   },
   "id": "2c019bbb1c6d142e"
  },
  {
   "cell_type": "markdown",
   "source": [],
   "metadata": {
    "collapsed": false
   },
   "id": "86c94ceb4228260f"
  },
  {
   "cell_type": "markdown",
   "source": [
    "Dobili smo da je optimalan iznos 1100 za x1 = 40, x2 = 0, x3 = 60, što je točno rješenje za dane jednadžbe"
   ],
   "metadata": {
    "collapsed": false
   },
   "id": "24c5a48c08842632"
  },
  {
   "cell_type": "markdown",
   "source": [
    "### 1.2. Rješenje koristeći dual\n",
    "\n",
    "Imamo primal i moramo ga prebaciti u dualni oblik i primjeniti istu funkciju na novi skup jedadžbi\n",
    "\n",
    "primal\n",
    " Max z = 20x1 + 10x2 + 5x3 \n",
    "1. x1 + x2 + x3 = 100\n",
    "2. -2*x1 - x2 - x3 <= -120\n",
    "3. 2x1 + 1.5x2 + 0.5x3 <= 110\n",
    "\n",
    "Iz primala dobijemo sljedeći dual\n",
    "\n",
    "dual\n",
    " min z = 100y1 - 120y2 + 110y3 \n",
    "1. y1 - 2y2 + 2y3 = 20\n",
    "2. y1 - y2 + 1.5y3 => 10\n",
    "3. 2y1 - y2 + 0.5y3 => 5\n",
    "\n",
    "no da bismo naveden jednadžbe mogli uvrstiti u funkciju moramo sve pomnožiti s -1 da bi se znak veće okrenuo na pravu stranu\n",
    "dakle naše jednadžbe su\n",
    " \n",
    "min z = 100y1 - 120y2 + 110y3 \n",
    "1. -y1 + 2y2 - 2y3 = -20\n",
    "2. -y1 + y2 - 1.5y3 <= -10\n",
    "3. -2y1 + y2 - 0.5y3 <= -5"
   ],
   "metadata": {
    "collapsed": false
   },
   "id": "bff1d16c462cf5e8"
  },
  {
   "cell_type": "code",
   "execution_count": 24,
   "outputs": [
    {
     "name": "stderr",
     "output_type": "stream",
     "text": [
      "C:\\Users\\Josip\\AppData\\Local\\Temp\\ipykernel_15904\\614258206.py:11: DeprecationWarning:\n",
      "\n",
      "`method='simplex'` is deprecated and will be removed in SciPy 1.11.0. Please use one of the HiGHS solvers (e.g. `method='highs'`) in new code.\n",
      "\n"
     ]
    },
    {
     "data": {
      "text/plain": " message: Optimization terminated successfully.\n success: True\n  status: 0\n     fun: 1100.0\n       x: [ 0.000e+00  0.000e+00  1.000e+01]\n     nit: 3"
     },
     "execution_count": 24,
     "metadata": {},
     "output_type": "execute_result"
    }
   ],
   "source": [
    "obj=[100,-120,110]\n",
    "\n",
    "lhs=[[-1,2,-2],\n",
    "     [-1,1,-1.5],\n",
    "     [-1,1,-0.5]]\n",
    "\n",
    "rhs=[-20,-10,-5]\n",
    "\n",
    "bnd=[(0,float('inf')),(0,float('inf'))]\n",
    "\n",
    "optimizacija=linprog(c=obj,A_ub=lhs,b_ub=rhs,method='simplex')\n",
    "\n",
    "optimizacija"
   ],
   "metadata": {
    "collapsed": false,
    "ExecuteTime": {
     "end_time": "2023-11-09T17:44:56.687441800Z",
     "start_time": "2023-11-09T17:44:56.628131Z"
    }
   },
   "id": "9d137c4f0a0dd01e"
  },
  {
   "cell_type": "markdown",
   "source": [],
   "metadata": {
    "collapsed": false
   },
   "id": "a0648e10cbff5cef"
  },
  {
   "cell_type": "markdown",
   "source": [
    "### 1.3. Grafički prikaz polaznog primjera"
   ],
   "metadata": {
    "collapsed": false
   },
   "id": "9e7fe43fa6fd165a"
  },
  {
   "cell_type": "code",
   "execution_count": 25,
   "outputs": [
    {
     "data": {
      "application/vnd.plotly.v1+json": {
       "data": [
        {
         "visible": false,
         "x": [
          65.0
         ],
         "y": [
          39.0
         ],
         "z": [
          104.0
         ],
         "type": "scatter3d"
        },
        {
         "line": {
          "color": "#003c8f",
          "width": 5
         },
         "mode": "lines",
         "opacity": 0.2,
         "surfaceaxis": 2,
         "surfacecolor": "#1565c0",
         "x": [
          20.0,
          20.0,
          40.0,
          20.0
         ],
         "y": [
          30.0,
          0.0,
          0.0,
          30.0
         ],
         "z": [
          50.0,
          80.0,
          60.0,
          50.0
         ],
         "type": "scatter3d"
        },
        {
         "line": {
          "color": "#003c8f",
          "width": 5
         },
         "mode": "lines",
         "opacity": 0.2,
         "surfaceaxis": 2,
         "surfacecolor": "#1565c0",
         "x": [
          20.0,
          20.0,
          50.0,
          20.0
         ],
         "y": [
          30.0,
          0.0,
          0.0,
          30.0
         ],
         "z": [
          50.0,
          80.0,
          20.0,
          50.0
         ],
         "type": "scatter3d"
        },
        {
         "line": {
          "color": "#003c8f",
          "width": 5
         },
         "mode": "lines",
         "opacity": 0.2,
         "surfaceaxis": 2,
         "surfacecolor": "#1565c0",
         "x": [
          20.0,
          50.0,
          40.0,
          20.0
         ],
         "y": [
          30.0,
          0.0,
          0.0,
          30.0
         ],
         "z": [
          50.0,
          20.0,
          60.0,
          50.0
         ],
         "type": "scatter3d"
        },
        {
         "line": {
          "color": "#003c8f",
          "width": 5
         },
         "mode": "lines",
         "opacity": 0.2,
         "surfaceaxis": 1,
         "surfacecolor": "#1565c0",
         "x": [
          20.0,
          50.0,
          40.0,
          20.0
         ],
         "y": [
          0.0,
          0.0,
          0.0,
          0.0
         ],
         "z": [
          80.0,
          20.0,
          60.0,
          80.0
         ],
         "type": "scatter3d"
        },
        {
         "hoverinfo": "text",
         "hoverlabel": {
          "align": "left",
          "bgcolor": "#ffffff",
          "bordercolor": "#404040",
          "font": {
           "color": "#404040",
           "family": "Arial"
          }
         },
         "marker": {
          "color": "gray",
          "opacity": 1.0E-7,
          "size": 20
         },
         "text": [
          "<b>BFS</b>: (50, 0, 20, 30, 0, 0)<br><b>B</b>: (1, 3, 4)<br><b>Obj</b>: 1100",
          "<b>BFS</b>: (20, 30, 50, 0, 0, 0)<br><b>B</b>: (1, 2, 3)<br><b>Obj</b>: 950",
          "<b>BFS</b>: (20, 0, 80, 0, 0, 30)<br><b>B</b>: (1, 3, 6)<br><b>Obj</b>: 800",
          "<b>BFS</b>: (40, 0, 60, 0, 20, 0)<br><b>B</b>: (1, 3, 5)<br><b>Obj</b>: 1100"
         ],
         "x": [
          50.0,
          20.0,
          20.0,
          40.0
         ],
         "y": [
          0.0,
          30.0,
          0.0,
          0.0
         ],
         "z": [
          20.0,
          50.0,
          80.0,
          60.0
         ],
         "type": "scatter3d"
        },
        {
         "mode": "none",
         "name": "(4) 1x<sub>1</sub> + 1x<sub>2</sub> + 1x<sub>3</sub> ≤ 100",
         "opacity": 0.5,
         "showlegend": true,
         "surfaceaxis": 2,
         "surfacecolor": "gray",
         "visible": "legendonly",
         "x": [
          0.0,
          65.0,
          65.0,
          0.0,
          0.0
         ],
         "y": [
          0.0,
          0.0,
          39.0,
          39.0,
          0.0
         ],
         "z": [
          100.0,
          35.0,
          -4.0,
          61.0,
          100.0
         ],
         "type": "scatter3d"
        },
        {
         "mode": "none",
         "name": "(5) -2x<sub>1</sub> - 1x<sub>2</sub> - 1x<sub>3</sub> ≤ -120",
         "opacity": 0.5,
         "showlegend": true,
         "surfaceaxis": 2,
         "surfacecolor": "gray",
         "visible": "legendonly",
         "x": [
          0.0,
          65.0,
          65.0,
          0.0,
          0.0
         ],
         "y": [
          39.0,
          39.0,
          0.0,
          0.0,
          39.0
         ],
         "z": [
          81.0,
          -49.0,
          -10.0,
          120.0,
          81.0
         ],
         "type": "scatter3d"
        },
        {
         "mode": "none",
         "name": "(6) 2x<sub>1</sub> + 1.5x<sub>2</sub> + 0.5x<sub>3</sub> ≤ 110",
         "opacity": 0.5,
         "showlegend": true,
         "surfaceaxis": 2,
         "surfacecolor": "gray",
         "visible": "legendonly",
         "x": [
          0.0,
          65.0,
          65.0,
          0.0,
          0.0
         ],
         "y": [
          39.0,
          39.0,
          0.0,
          0.0,
          39.0
         ],
         "z": [
          103.0,
          -157.0,
          -40.0,
          220.0,
          103.0
         ],
         "type": "scatter3d"
        },
        {
         "mode": "none",
         "opacity": 0.3,
         "surfaceaxis": 2,
         "surfacecolor": "gray",
         "visible": false,
         "x": [
          0.0,
          0.0,
          65.0,
          65.0,
          0.0
         ],
         "y": [
          39.0,
          0.0,
          0.0,
          39.0,
          39.0
         ],
         "z": [
          -78.0,
          0.0,
          -260.0,
          -338.0,
          -78.0
         ],
         "type": "scatter3d"
        },
        {
         "mode": "none",
         "opacity": 0.3,
         "surfaceaxis": 2,
         "surfacecolor": "gray",
         "visible": false,
         "x": [
          0.0,
          0.0,
          65.0,
          65.0,
          0.0
         ],
         "y": [
          0.0,
          39.0,
          39.0,
          0.0,
          0.0
         ],
         "z": [
          18.416,
          -59.584,
          -319.584,
          -241.584,
          18.416
         ],
         "type": "scatter3d"
        },
        {
         "mode": "none",
         "opacity": 0.3,
         "surfaceaxis": 2,
         "surfacecolor": "gray",
         "visible": false,
         "x": [
          65.0,
          0.0,
          0.0,
          65.0,
          65.0
         ],
         "y": [
          39.0,
          39.0,
          0.0,
          0.0,
          39.0
         ],
         "z": [
          -301.166,
          -41.166000000000004,
          36.833999999999996,
          -223.166,
          -301.166
         ],
         "type": "scatter3d"
        },
        {
         "mode": "none",
         "opacity": 0.3,
         "surfaceaxis": 2,
         "surfacecolor": "gray",
         "visible": false,
         "x": [
          0.0,
          0.0,
          65.0,
          65.0,
          0.0
         ],
         "y": [
          39.0,
          0.0,
          0.0,
          39.0,
          39.0
         ],
         "z": [
          -22.75,
          55.25,
          -204.75,
          -282.75,
          -22.75
         ],
         "type": "scatter3d"
        },
        {
         "mode": "none",
         "opacity": 0.3,
         "surfaceaxis": 2,
         "surfacecolor": "gray",
         "visible": false,
         "x": [
          0.0,
          65.0,
          65.0,
          0.0,
          0.0
         ],
         "y": [
          39.0,
          39.0,
          0.0,
          0.0,
          39.0
         ],
         "z": [
          -4.334000000000003,
          -264.334,
          -186.334,
          73.666,
          -4.334000000000003
         ],
         "type": "scatter3d"
        },
        {
         "mode": "none",
         "opacity": 0.3,
         "surfaceaxis": 2,
         "surfacecolor": "gray",
         "visible": false,
         "x": [
          0.0,
          0.0,
          65.0,
          65.0,
          0.0
         ],
         "y": [
          39.0,
          0.0,
          0.0,
          39.0,
          39.0
         ],
         "z": [
          14.084000000000003,
          92.084,
          -167.916,
          -245.916,
          14.084000000000003
         ],
         "type": "scatter3d"
        },
        {
         "mode": "none",
         "opacity": 0.3,
         "surfaceaxis": 2,
         "surfacecolor": "gray",
         "visible": false,
         "x": [
          0.0,
          0.0,
          65.0,
          65.0,
          0.0
         ],
         "y": [
          0.0,
          39.0,
          39.0,
          0.0,
          0.0
         ],
         "z": [
          110.5,
          32.5,
          -227.5,
          -149.5,
          110.5
         ],
         "type": "scatter3d"
        },
        {
         "mode": "none",
         "opacity": 0.3,
         "surfaceaxis": 2,
         "surfacecolor": "gray",
         "visible": false,
         "x": [
          65.0,
          0.0,
          0.0,
          65.0,
          65.0
         ],
         "y": [
          39.0,
          39.0,
          0.0,
          0.0,
          39.0
         ],
         "z": [
          -209.084,
          50.91600000000001,
          128.916,
          -131.084,
          -209.084
         ],
         "type": "scatter3d"
        },
        {
         "mode": "none",
         "opacity": 0.3,
         "surfaceaxis": 2,
         "surfacecolor": "gray",
         "visible": false,
         "x": [
          65.0,
          0.0,
          0.0,
          65.0,
          65.0
         ],
         "y": [
          0.0,
          0.0,
          39.0,
          39.0,
          0.0
         ],
         "z": [
          -112.66600000000001,
          147.334,
          69.33399999999999,
          -190.666,
          -112.66600000000001
         ],
         "type": "scatter3d"
        },
        {
         "mode": "none",
         "opacity": 0.3,
         "surfaceaxis": 2,
         "surfacecolor": "gray",
         "visible": false,
         "x": [
          0.0,
          0.0,
          65.0,
          65.0,
          0.0
         ],
         "y": [
          0.0,
          39.0,
          39.0,
          0.0,
          0.0
         ],
         "z": [
          165.75,
          87.75,
          -172.25,
          -94.25,
          165.75
         ],
         "type": "scatter3d"
        },
        {
         "line": {
          "color": "#d50000",
          "width": 5
         },
         "marker": {
          "color": "#d50000",
          "size": 5,
          "symbol": "circle"
         },
         "mode": "lines+markers",
         "surfaceaxis": 2,
         "surfacecolor": "#d50000",
         "visible": false,
         "x": [
          22.875,
          21.916666666667,
          20.0,
          22.875
         ],
         "y": [
          0.0,
          -0.0,
          5.75,
          0.0
         ],
         "z": [
          74.25,
          78.083333333333,
          74.25,
          74.25
         ],
         "type": "scatter3d"
        },
        {
         "mode": "none",
         "opacity": 0.3,
         "surfaceaxis": 2,
         "surfacecolor": "gray",
         "visible": false,
         "x": [
          65.0,
          65.0,
          0.0,
          0.0,
          65.0
         ],
         "y": [
          0.0,
          39.0,
          39.0,
          0.0,
          0.0
         ],
         "z": [
          -75.83399999999999,
          -153.834,
          106.16600000000001,
          184.166,
          -75.83399999999999
         ],
         "type": "scatter3d"
        },
        {
         "line": {
          "color": "#d50000",
          "width": 5
         },
         "marker": {
          "color": "#d50000",
          "size": 5,
          "symbol": "circle"
         },
         "mode": "lines+markers",
         "surfaceaxis": 2,
         "surfacecolor": "#d50000",
         "visible": false,
         "x": [
          32.083,
          28.055333333333,
          20.0,
          32.083
         ],
         "y": [
          0.0,
          0.0,
          24.166,
          0.0
         ],
         "z": [
          55.834,
          71.944666666667,
          55.834,
          55.834
         ],
         "type": "scatter3d"
        },
        {
         "mode": "none",
         "opacity": 0.3,
         "surfaceaxis": 2,
         "surfacecolor": "gray",
         "visible": false,
         "x": [
          0.0,
          65.0,
          65.0,
          0.0,
          0.0
         ],
         "y": [
          39.0,
          39.0,
          0.0,
          0.0,
          39.0
         ],
         "z": [
          124.58399999999999,
          -135.416,
          -57.41600000000001,
          202.584,
          124.58399999999999
         ],
         "type": "scatter3d"
        },
        {
         "line": {
          "color": "#d50000",
          "width": 5
         },
         "marker": {
          "color": "#d50000",
          "size": 5,
          "symbol": "circle"
         },
         "mode": "lines+markers",
         "surfaceaxis": 2,
         "surfacecolor": "#d50000",
         "visible": false,
         "x": [
          41.292,
          32.584,
          28.389333333333,
          34.194666666667,
          41.292
         ],
         "y": [
          -0.0,
          17.416,
          17.416,
          0.0,
          -0.0
         ],
         "z": [
          37.416,
          37.416,
          54.194666666667,
          65.805333333333,
          37.416
         ],
         "type": "scatter3d"
        },
        {
         "mode": "none",
         "opacity": 0.3,
         "surfaceaxis": 2,
         "surfacecolor": "gray",
         "visible": false,
         "x": [
          0.0,
          65.0,
          65.0,
          0.0,
          0.0
         ],
         "y": [
          39.0,
          39.0,
          0.0,
          0.0,
          39.0
         ],
         "z": [
          142.0,
          -118.0,
          -40.0,
          220.0,
          142.0
         ],
         "type": "scatter3d"
        },
        {
         "line": {
          "color": "#d50000",
          "width": 5
         },
         "marker": {
          "color": "#d50000",
          "size": 5,
          "symbol": "circle"
         },
         "mode": "lines+markers",
         "surfaceaxis": 2,
         "surfacecolor": "#d50000",
         "visible": false,
         "x": [
          50.0,
          40.0
         ],
         "y": [
          0.0,
          -0.0
         ],
         "z": [
          20.0,
          60.0
         ],
         "type": "scatter3d"
        },
        {
         "mode": "none",
         "opacity": 0.3,
         "surfaceaxis": 2,
         "surfacecolor": "gray",
         "visible": false,
         "x": [
          0.0,
          65.0,
          65.0,
          0.0,
          0.0
         ],
         "y": [
          39.0,
          39.0,
          0.0,
          0.0,
          39.0
         ],
         "z": [
          143.0,
          -117.0,
          -39.0,
          221.0,
          143.0
         ],
         "type": "scatter3d"
        },
        {
         "mode": "none",
         "opacity": 0.3,
         "surfaceaxis": 2,
         "surfacecolor": "gray",
         "visible": false,
         "x": [
          0.0,
          65.0,
          65.0,
          0.0,
          0.0
         ],
         "y": [
          0.0,
          0.0,
          39.0,
          39.0,
          0.0
         ],
         "z": [
          239.416,
          -20.584000000000014,
          -98.58400000000002,
          161.416,
          239.416
         ],
         "type": "scatter3d"
        },
        {
         "mode": "none",
         "opacity": 0.3,
         "surfaceaxis": 2,
         "surfacecolor": "gray",
         "visible": false,
         "x": [
          65.0,
          0.0,
          0.0,
          65.0,
          65.0
         ],
         "y": [
          39.0,
          39.0,
          0.0,
          0.0,
          39.0
         ],
         "z": [
          -80.16599999999998,
          179.834,
          257.834,
          -2.1659999999999853,
          -80.16599999999998
         ],
         "type": "scatter3d"
        },
        {
         "mode": "none",
         "opacity": 0.3,
         "surfaceaxis": 2,
         "surfacecolor": "gray",
         "visible": false,
         "x": [
          0.0,
          0.0,
          65.0,
          65.0,
          0.0
         ],
         "y": [
          39.0,
          0.0,
          0.0,
          39.0,
          39.0
         ],
         "z": [
          198.25,
          276.25,
          16.25,
          -61.75,
          198.25
         ],
         "type": "scatter3d"
        },
        {
         "mode": "none",
         "opacity": 0.3,
         "surfaceaxis": 2,
         "surfacecolor": "gray",
         "visible": false,
         "x": [
          0.0,
          65.0,
          65.0,
          0.0,
          0.0
         ],
         "y": [
          39.0,
          39.0,
          0.0,
          0.0,
          39.0
         ],
         "z": [
          216.666,
          -43.33400000000002,
          34.66599999999998,
          294.666,
          216.666
         ],
         "type": "scatter3d"
        },
        {
         "mode": "none",
         "opacity": 0.3,
         "surfaceaxis": 2,
         "surfacecolor": "gray",
         "visible": false,
         "x": [
          0.0,
          65.0,
          65.0,
          0.0,
          0.0
         ],
         "y": [
          0.0,
          0.0,
          39.0,
          39.0,
          0.0
         ],
         "z": [
          313.084,
          53.08400000000002,
          -24.915999999999986,
          235.084,
          313.084
         ],
         "type": "scatter3d"
        },
        {
         "mode": "none",
         "opacity": 0.3,
         "surfaceaxis": 2,
         "surfacecolor": "gray",
         "visible": false,
         "x": [
          0.0,
          65.0,
          65.0,
          0.0,
          0.0
         ],
         "y": [
          0.0,
          0.0,
          39.0,
          39.0,
          0.0
         ],
         "z": [
          331.5,
          71.5,
          -6.5,
          253.5,
          331.5
         ],
         "type": "scatter3d"
        },
        {
         "mode": "none",
         "opacity": 0.3,
         "surfaceaxis": 2,
         "surfacecolor": "gray",
         "visible": false,
         "x": [
          0.0,
          65.0,
          65.0,
          0.0,
          0.0
         ],
         "y": [
          39.0,
          39.0,
          0.0,
          0.0,
          39.0
         ],
         "z": [
          271.916,
          11.915999999999986,
          89.91599999999998,
          349.916,
          271.916
         ],
         "type": "scatter3d"
        },
        {
         "mode": "none",
         "opacity": 0.3,
         "surfaceaxis": 2,
         "surfacecolor": "gray",
         "visible": false,
         "x": [
          65.0,
          0.0,
          0.0,
          65.0,
          65.0
         ],
         "y": [
          0.0,
          0.0,
          39.0,
          39.0,
          0.0
         ],
         "z": [
          108.33400000000002,
          368.334,
          290.334,
          30.334000000000014,
          108.33400000000002
         ],
         "type": "scatter3d"
        },
        {
         "mode": "none",
         "opacity": 0.3,
         "surfaceaxis": 2,
         "surfacecolor": "gray",
         "visible": false,
         "x": [
          0.0,
          0.0,
          65.0,
          65.0,
          0.0
         ],
         "y": [
          0.0,
          39.0,
          39.0,
          0.0,
          0.0
         ],
         "z": [
          386.75,
          308.75,
          48.75,
          126.75,
          386.75
         ],
         "type": "scatter3d"
        },
        {
         "mode": "none",
         "opacity": 0.3,
         "surfaceaxis": 2,
         "surfacecolor": "gray",
         "visible": false,
         "x": [
          65.0,
          0.0,
          0.0,
          65.0,
          65.0
         ],
         "y": [
          39.0,
          39.0,
          0.0,
          0.0,
          39.0
         ],
         "z": [
          67.16599999999998,
          327.166,
          405.166,
          145.166,
          67.16599999999998
         ],
         "type": "scatter3d"
        },
        {
         "mode": "none",
         "opacity": 0.3,
         "surfaceaxis": 2,
         "surfacecolor": "gray",
         "visible": false,
         "x": [
          0.0,
          0.0,
          65.0,
          65.0,
          0.0
         ],
         "y": [
          39.0,
          0.0,
          0.0,
          39.0,
          39.0
         ],
         "z": [
          345.584,
          423.584,
          163.584,
          85.58400000000002,
          345.584
         ],
         "type": "scatter3d"
        },
        {
         "mode": "none",
         "opacity": 0.3,
         "surfaceaxis": 2,
         "surfacecolor": "gray",
         "visible": false,
         "x": [
          0.0,
          0.0,
          65.0,
          65.0,
          0.0
         ],
         "y": [
          0.0,
          39.0,
          39.0,
          0.0,
          0.0
         ],
         "z": [
          442.0,
          364.0,
          104.0,
          182.0,
          442.0
         ],
         "type": "scatter3d"
        },
        {
         "cells": {
          "align": [
           "left",
           "right",
           "left"
          ],
          "font": {
           "size": 14
          },
          "height": 25,
          "line": {
           "color": "#ffffff",
           "width": 1
          },
          "values": [
           [
            "max<br>s.t.<br> <br> "
           ],
           [
            "z<br>x<sub>1</sub><br>x<sub>2</sub><br>x<sub>3</sub>"
           ],
           [
            "= 950 + 5x<sub>4</sub> + 7.5x<sub>5</sub> - 5x<sub>6</sub><br>= 20 + 1x<sub>4</sub> + 1x<sub>5</sub> + 0x<sub>6</sub><br>= 30 - 1x<sub>4</sub> - 1.5x<sub>5</sub> - 1x<sub>6</sub><br>= 50 - 1x<sub>4</sub> + 0.5x<sub>5</sub> + 1x<sub>6</sub>"
           ]
          ]
         },
         "columnwidth": [
          0.13333333333333333,
          0.06666666666666667,
          0.8
         ],
         "header": {
          "align": [
           "left",
           "right",
           "left"
          ],
          "font": {
           "size": 14
          },
          "height": 25,
          "line": {
           "color": "#ffffff",
           "width": 1
          },
          "values": [
           "<b>(0)</b>",
           " ",
           " "
          ]
         },
         "visible": true,
         "type": "table",
         "domain": {
          "x": [
           0.6052631578947368,
           1.0
          ],
          "y": [
           0.0,
           1.0
          ]
         }
        },
        {
         "line": {
          "color": "#d50000",
          "width": 5
         },
         "mode": "lines",
         "visible": false,
         "x": [
          20.0,
          35.0
         ],
         "y": [
          30.0,
          15.0
         ],
         "z": [
          50.0,
          35.0
         ],
         "type": "scatter3d"
        },
        {
         "line": {
          "color": "#d50000",
          "width": 5
         },
         "mode": "lines",
         "visible": false,
         "x": [
          20.0,
          50.0
         ],
         "y": [
          30.0,
          0.0
         ],
         "z": [
          50.0,
          20.0
         ],
         "type": "scatter3d"
        },
        {
         "cells": {
          "align": [
           "left",
           "right",
           "left"
          ],
          "font": {
           "size": 14
          },
          "height": 25,
          "line": {
           "color": "#ffffff",
           "width": 1
          },
          "values": [
           [
            "max<br>s.t.<br> <br> ",
            "<b>(0)</b>",
            "max<br>s.t.<br> <br> "
           ],
           [
            "z<br>x<sub>1</sub><br>x<sub>3</sub><br>x<sub>4</sub>",
            " ",
            "z<br>x<sub>1</sub><br>x<sub>2</sub><br>x<sub>3</sub>"
           ],
           [
            "= 1100 - 5x<sub>2</sub> + 0x<sub>5</sub> - 10x<sub>6</sub><br>= 50 - 1x<sub>2</sub> - 0.5x<sub>5</sub> - 1x<sub>6</sub><br>= 20 + 1x<sub>2</sub> + 2x<sub>5</sub> + 2x<sub>6</sub><br>= 30 - 1x<sub>2</sub> - 1.5x<sub>5</sub> - 1x<sub>6</sub>",
            " ",
            "= 950 + 5x<sub>4</sub> + 7.5x<sub>5</sub> - 5x<sub>6</sub><br>= 20 + 1x<sub>4</sub> + 1x<sub>5</sub> + 0x<sub>6</sub><br>= 30 - 1x<sub>4</sub> - 1.5x<sub>5</sub> - 1x<sub>6</sub><br>= 50 - 1x<sub>4</sub> + 0.5x<sub>5</sub> + 1x<sub>6</sub>"
           ]
          ]
         },
         "columnwidth": [
          0.13333333333333333,
          0.06666666666666667,
          0.8
         ],
         "header": {
          "align": [
           "left",
           "right",
           "left"
          ],
          "font": {
           "size": 14
          },
          "height": 25,
          "line": {
           "color": "#ffffff",
           "width": 1
          },
          "values": [
           "<b>(1)</b>",
           " ",
           " "
          ]
         },
         "type": "table",
         "domain": {
          "x": [
           0.6052631578947368,
           1.0
          ],
          "y": [
           0.0,
           1.0
          ]
         }
        },
        {
         "cells": {
          "align": [
           "left",
           "right",
           "left"
          ],
          "font": {
           "size": 14
          },
          "height": 25,
          "line": {
           "color": "#ffffff",
           "width": 1
          },
          "values": [
           [
            "max<br>s.t.<br> <br> "
           ],
           [
            "z<br>x<sub>1</sub><br>x<sub>3</sub><br>x<sub>4</sub>"
           ],
           [
            "= 1100 - 5x<sub>2</sub> + 0x<sub>5</sub> - 10x<sub>6</sub><br>= 50 - 1x<sub>2</sub> - 0.5x<sub>5</sub> - 1x<sub>6</sub><br>= 20 + 1x<sub>2</sub> + 2x<sub>5</sub> + 2x<sub>6</sub><br>= 30 - 1x<sub>2</sub> - 1.5x<sub>5</sub> - 1x<sub>6</sub>"
           ]
          ]
         },
         "columnwidth": [
          0.13333333333333333,
          0.06666666666666667,
          0.8
         ],
         "header": {
          "align": [
           "left",
           "right",
           "left"
          ],
          "font": {
           "size": 14
          },
          "height": 25,
          "line": {
           "color": "#ffffff",
           "width": 1
          },
          "values": [
           "<b>(1)</b>",
           " ",
           " "
          ]
         },
         "type": "table",
         "domain": {
          "x": [
           0.6052631578947368,
           1.0
          ],
          "y": [
           0.0,
           1.0
          ]
         }
        },
        {
         "x": [
          20.0
         ],
         "y": [
          30.0
         ],
         "z": [
          50.0
         ],
         "type": "scatter3d"
        },
        {
         "marker": {
          "color": "#d50000",
          "symbol": "circle"
         },
         "x": [
          50.0
         ],
         "y": [
          0.0
         ],
         "z": [
          20.0
         ],
         "type": "scatter3d"
        }
       ],
       "layout": {
        "template": {
         "data": {
          "scatter3d": [
           {
            "hoverinfo": "none",
            "line": {
             "color": "#1565c0",
             "width": 6
            },
            "marker": {
             "color": "#ff5131",
             "line": {
              "color": "#d50000",
              "width": 1
             },
             "opacity": 0.99,
             "size": 5,
             "symbol": "circle-open"
            },
            "mode": "markers",
            "showlegend": false,
            "surfacecolor": "#5e92f3",
            "visible": true,
            "type": "scatter3d"
           }
          ],
          "scatter": [
           {
            "cliponaxis": false,
            "fillcolor": "#1565c0",
            "hoverinfo": "none",
            "line": {
             "color": "#1469FE",
             "width": 4
            },
            "marker": {
             "color": "#ffffff",
             "line": {
              "color": "#d50000",
              "width": 2
             },
             "opacity": 0.99,
             "size": 9
            },
            "mode": "markers",
            "showlegend": false,
            "visible": true,
            "type": "scatter"
           },
           {
            "cliponaxis": false,
            "fillcolor": "#1565c0",
            "hoverinfo": "none",
            "line": {
             "color": "#9495A6",
             "width": 4
            },
            "marker": {
             "color": "#ffffff",
             "line": {
              "color": "#d50000",
              "width": 2
             },
             "opacity": 0.99,
             "size": 9
            },
            "mode": "markers",
            "showlegend": false,
            "visible": true,
            "type": "scatter"
           },
           {
            "cliponaxis": false,
            "fillcolor": "#1565c0",
            "hoverinfo": "none",
            "line": {
             "color": "#DC0000",
             "width": 4
            },
            "marker": {
             "color": "#ffffff",
             "line": {
              "color": "#d50000",
              "width": 2
             },
             "opacity": 0.99,
             "size": 9
            },
            "mode": "markers",
            "showlegend": false,
            "visible": true,
            "type": "scatter"
           },
           {
            "cliponaxis": false,
            "fillcolor": "#1565c0",
            "hoverinfo": "none",
            "line": {
             "color": "#173D90",
             "width": 4
            },
            "marker": {
             "color": "#ffffff",
             "line": {
              "color": "#d50000",
              "width": 2
             },
             "opacity": 0.99,
             "size": 9
            },
            "mode": "markers",
            "showlegend": false,
            "visible": true,
            "type": "scatter"
           },
           {
            "cliponaxis": false,
            "fillcolor": "#1565c0",
            "hoverinfo": "none",
            "line": {
             "color": "#65ADFF",
             "width": 4
            },
            "marker": {
             "color": "#ffffff",
             "line": {
              "color": "#d50000",
              "width": 2
             },
             "opacity": 0.99,
             "size": 9
            },
            "mode": "markers",
            "showlegend": false,
            "visible": true,
            "type": "scatter"
           }
          ],
          "table": [
           {
            "cells": {
             "fill": {
              "color": "#ffffff"
             },
             "font": {
              "color": [
               [
                "black",
                "#d50000",
                "black"
               ],
               [
                "black",
                "black",
                "black"
               ]
              ]
             }
            },
            "header": {
             "fill": {
              "color": "#ffffff"
             },
             "font": {
              "color": [
               "#d50000",
               "black"
              ]
             }
            },
            "visible": false,
            "type": "table"
           }
          ]
         },
         "layout": {
          "annotations": [
           {
            "align": "center",
            "ax": 0,
            "ay": 0,
            "bgcolor": "#45568B",
            "bordercolor": "#404040",
            "borderpad": 3,
            "borderwidth": 2,
            "font": {
             "color": "#ffffff",
             "size": 12
            },
            "name": "current",
            "visible": false
           },
           {
            "align": "center",
            "ax": 0,
            "ay": 0,
            "bgcolor": "#d8e4f9",
            "bordercolor": "#404040",
            "borderpad": 3,
            "borderwidth": 2,
            "font": {
             "color": "#404040",
             "size": 12
            },
            "name": "explored",
            "visible": false
           },
           {
            "align": "center",
            "ax": 0,
            "ay": 0,
            "bgcolor": "#ffffff",
            "bordercolor": "#404040",
            "borderpad": 3,
            "borderwidth": 2,
            "font": {
             "color": "#404040",
             "size": 12
            },
            "name": "unexplored",
            "visible": false
           }
          ],
          "clickmode": "none",
          "dragmode": "turntable",
          "font": {
           "color": "#404040",
           "family": "Arial"
          },
          "height": 500,
          "hovermode": "closest",
          "legend": {
           "font": {
            "size": 13
           },
           "title": {
            "font": {
             "size": 14
            },
            "text": "<b>Constraint(s)</b>"
           },
           "x": 0.39473684210526316,
           "xanchor": "left",
           "y": 1,
           "yanchor": "top"
          },
          "margin": {
           "b": 0,
           "l": 0,
           "r": 0,
           "t": 33
          },
          "paper_bgcolor": "#ffffff",
          "plot_bgcolor": "#ffffff",
          "scene": {
           "aspectmode": "cube",
           "domain": {
            "x": [
             0,
             0.39473684210526316
            ],
            "y": [
             0,
             1
            ]
           },
           "xaxis": {
            "backgroundcolor": "#ffffff",
            "gridcolor": "#DFDFDF",
            "gridwidth": 2,
            "linecolor": "#404040",
            "rangemode": "tozero",
            "showbackground": true,
            "showspikes": false,
            "ticks": "",
            "title": {
             "text": "x<sub>1</sub>"
            },
            "zerolinecolor": "white"
           },
           "yaxis": {
            "backgroundcolor": "#ffffff",
            "gridcolor": "#DFDFDF",
            "gridwidth": 2,
            "linecolor": "#404040",
            "rangemode": "tozero",
            "showbackground": true,
            "showspikes": false,
            "ticks": "",
            "title": {
             "text": "x<sub>2</sub>"
            },
            "zerolinecolor": "white"
           },
           "zaxis": {
            "backgroundcolor": "#ffffff",
            "gridcolor": "#DFDFDF",
            "gridwidth": 2,
            "linecolor": "#404040",
            "rangemode": "tozero",
            "showbackground": true,
            "showspikes": false,
            "ticks": "",
            "title": {
             "text": "x<sub>3</sub>"
            },
            "zerolinecolor": "white"
           }
          },
          "width": 950
         }
        },
        "scene": {
         "domain": {
          "x": [
           0.0,
           0.39473684210526316
          ],
          "y": [
           0.0,
           1.0
          ]
         },
         "xaxis": {
          "range": [
           0,
           65.0
          ]
         },
         "yaxis": {
          "range": [
           0,
           39.0
          ]
         },
         "zaxis": {
          "range": [
           0,
           104.0
          ]
         }
        },
        "xaxis": {
         "domain": [
          0.5,
          1
         ],
         "range": [
          0,
          1
         ],
         "visible": false
        },
        "yaxis": {
         "domain": [
          0.15,
          1
         ],
         "range": [
          0,
          1
         ],
         "visible": false
        },
        "sliders": [
         {
          "active": 0,
          "currentvalue": {
           "prefix": "Objective Value: "
          },
          "len": 0.39473684210526316,
          "lenmode": "fraction",
          "steps": [
           {
            "args": [
             {
              "visible": [
               false,
               null,
               null,
               null,
               null,
               null,
               "legendonly",
               "legendonly",
               "legendonly",
               true,
               false,
               false,
               false,
               false,
               false,
               false,
               false,
               false,
               false,
               false,
               false,
               false,
               false,
               false,
               false,
               false,
               false,
               false,
               false,
               false,
               false,
               false,
               false,
               false,
               false,
               false,
               false,
               false,
               false,
               false,
               false,
               false,
               false,
               false,
               false,
               false
              ]
             }
            ],
            "label": "0.0",
            "method": "update"
           },
           {
            "args": [
             {
              "visible": [
               false,
               null,
               null,
               null,
               null,
               null,
               "legendonly",
               "legendonly",
               "legendonly",
               false,
               true,
               false,
               false,
               false,
               false,
               false,
               false,
               false,
               false,
               false,
               false,
               false,
               false,
               false,
               false,
               false,
               false,
               false,
               false,
               false,
               false,
               false,
               false,
               false,
               false,
               false,
               false,
               false,
               false,
               false,
               false,
               false,
               false,
               false,
               false,
               false
              ]
             }
            ],
            "label": "92.08",
            "method": "update"
           },
           {
            "args": [
             {
              "visible": [
               false,
               null,
               null,
               null,
               null,
               null,
               "legendonly",
               "legendonly",
               "legendonly",
               false,
               false,
               true,
               false,
               false,
               false,
               false,
               false,
               false,
               false,
               false,
               false,
               false,
               false,
               false,
               false,
               false,
               false,
               false,
               false,
               false,
               false,
               false,
               false,
               false,
               false,
               false,
               false,
               false,
               false,
               false,
               false,
               false,
               false,
               false,
               false,
               false
              ]
             }
            ],
            "label": "184.17",
            "method": "update"
           },
           {
            "args": [
             {
              "visible": [
               false,
               null,
               null,
               null,
               null,
               null,
               "legendonly",
               "legendonly",
               "legendonly",
               false,
               false,
               false,
               true,
               false,
               false,
               false,
               false,
               false,
               false,
               false,
               false,
               false,
               false,
               false,
               false,
               false,
               false,
               false,
               false,
               false,
               false,
               false,
               false,
               false,
               false,
               false,
               false,
               false,
               false,
               false,
               false,
               false,
               false,
               false,
               false,
               false
              ]
             }
            ],
            "label": "276.25",
            "method": "update"
           },
           {
            "args": [
             {
              "visible": [
               false,
               null,
               null,
               null,
               null,
               null,
               "legendonly",
               "legendonly",
               "legendonly",
               false,
               false,
               false,
               false,
               true,
               false,
               false,
               false,
               false,
               false,
               false,
               false,
               false,
               false,
               false,
               false,
               false,
               false,
               false,
               false,
               false,
               false,
               false,
               false,
               false,
               false,
               false,
               false,
               false,
               false,
               false,
               false,
               false,
               false,
               false,
               false,
               false
              ]
             }
            ],
            "label": "368.33",
            "method": "update"
           },
           {
            "args": [
             {
              "visible": [
               false,
               null,
               null,
               null,
               null,
               null,
               "legendonly",
               "legendonly",
               "legendonly",
               false,
               false,
               false,
               false,
               false,
               true,
               false,
               false,
               false,
               false,
               false,
               false,
               false,
               false,
               false,
               false,
               false,
               false,
               false,
               false,
               false,
               false,
               false,
               false,
               false,
               false,
               false,
               false,
               false,
               false,
               false,
               false,
               false,
               false,
               false,
               false,
               false
              ]
             }
            ],
            "label": "460.42",
            "method": "update"
           },
           {
            "args": [
             {
              "visible": [
               false,
               null,
               null,
               null,
               null,
               null,
               "legendonly",
               "legendonly",
               "legendonly",
               false,
               false,
               false,
               false,
               false,
               false,
               true,
               false,
               false,
               false,
               false,
               false,
               false,
               false,
               false,
               false,
               false,
               false,
               false,
               false,
               false,
               false,
               false,
               false,
               false,
               false,
               false,
               false,
               false,
               false,
               false,
               false,
               false,
               false,
               false,
               false,
               false
              ]
             }
            ],
            "label": "552.5",
            "method": "update"
           },
           {
            "args": [
             {
              "visible": [
               false,
               null,
               null,
               null,
               null,
               null,
               "legendonly",
               "legendonly",
               "legendonly",
               false,
               false,
               false,
               false,
               false,
               false,
               false,
               true,
               false,
               false,
               false,
               false,
               false,
               false,
               false,
               false,
               false,
               false,
               false,
               false,
               false,
               false,
               false,
               false,
               false,
               false,
               false,
               false,
               false,
               false,
               false,
               false,
               false,
               false,
               false,
               false,
               false
              ]
             }
            ],
            "label": "644.58",
            "method": "update"
           },
           {
            "args": [
             {
              "visible": [
               false,
               null,
               null,
               null,
               null,
               null,
               "legendonly",
               "legendonly",
               "legendonly",
               false,
               false,
               false,
               false,
               false,
               false,
               false,
               false,
               true,
               false,
               false,
               false,
               false,
               false,
               false,
               false,
               false,
               false,
               false,
               false,
               false,
               false,
               false,
               false,
               false,
               false,
               false,
               false,
               false,
               false,
               false,
               false,
               false,
               false,
               false,
               false,
               false
              ]
             }
            ],
            "label": "736.67",
            "method": "update"
           },
           {
            "args": [
             {
              "visible": [
               false,
               null,
               null,
               null,
               null,
               null,
               "legendonly",
               "legendonly",
               "legendonly",
               false,
               false,
               false,
               false,
               false,
               false,
               false,
               false,
               false,
               true,
               true,
               false,
               false,
               false,
               false,
               false,
               false,
               false,
               false,
               false,
               false,
               false,
               false,
               false,
               false,
               false,
               false,
               false,
               false,
               false,
               false,
               false,
               false,
               false,
               false,
               false,
               false
              ]
             }
            ],
            "label": "828.75",
            "method": "update"
           },
           {
            "args": [
             {
              "visible": [
               false,
               null,
               null,
               null,
               null,
               null,
               "legendonly",
               "legendonly",
               "legendonly",
               false,
               false,
               false,
               false,
               false,
               false,
               false,
               false,
               false,
               false,
               false,
               true,
               true,
               false,
               false,
               false,
               false,
               false,
               false,
               false,
               false,
               false,
               false,
               false,
               false,
               false,
               false,
               false,
               false,
               false,
               false,
               false,
               false,
               false,
               false,
               false,
               false
              ]
             }
            ],
            "label": "920.83",
            "method": "update"
           },
           {
            "args": [
             {
              "visible": [
               false,
               null,
               null,
               null,
               null,
               null,
               "legendonly",
               "legendonly",
               "legendonly",
               false,
               false,
               false,
               false,
               false,
               false,
               false,
               false,
               false,
               false,
               false,
               false,
               false,
               true,
               true,
               false,
               false,
               false,
               false,
               false,
               false,
               false,
               false,
               false,
               false,
               false,
               false,
               false,
               false,
               false,
               false,
               false,
               false,
               false,
               false,
               false,
               false
              ]
             }
            ],
            "label": "1012.92",
            "method": "update"
           },
           {
            "args": [
             {
              "visible": [
               false,
               null,
               null,
               null,
               null,
               null,
               "legendonly",
               "legendonly",
               "legendonly",
               false,
               false,
               false,
               false,
               false,
               false,
               false,
               false,
               false,
               false,
               false,
               false,
               false,
               false,
               false,
               true,
               true,
               false,
               false,
               false,
               false,
               false,
               false,
               false,
               false,
               false,
               false,
               false,
               false,
               false,
               false,
               false,
               false,
               false,
               false,
               false,
               false
              ]
             }
            ],
            "label": "1100.0",
            "method": "update"
           },
           {
            "args": [
             {
              "visible": [
               false,
               null,
               null,
               null,
               null,
               null,
               "legendonly",
               "legendonly",
               "legendonly",
               false,
               false,
               false,
               false,
               false,
               false,
               false,
               false,
               false,
               false,
               false,
               false,
               false,
               false,
               false,
               false,
               false,
               true,
               false,
               false,
               false,
               false,
               false,
               false,
               false,
               false,
               false,
               false,
               false,
               false,
               false,
               false,
               false,
               false,
               false,
               false,
               false
              ]
             }
            ],
            "label": "1105.0",
            "method": "update"
           },
           {
            "args": [
             {
              "visible": [
               false,
               null,
               null,
               null,
               null,
               null,
               "legendonly",
               "legendonly",
               "legendonly",
               false,
               false,
               false,
               false,
               false,
               false,
               false,
               false,
               false,
               false,
               false,
               false,
               false,
               false,
               false,
               false,
               false,
               false,
               true,
               false,
               false,
               false,
               false,
               false,
               false,
               false,
               false,
               false,
               false,
               false,
               false,
               false,
               false,
               false,
               false,
               false,
               false
              ]
             }
            ],
            "label": "1197.08",
            "method": "update"
           },
           {
            "args": [
             {
              "visible": [
               false,
               null,
               null,
               null,
               null,
               null,
               "legendonly",
               "legendonly",
               "legendonly",
               false,
               false,
               false,
               false,
               false,
               false,
               false,
               false,
               false,
               false,
               false,
               false,
               false,
               false,
               false,
               false,
               false,
               false,
               false,
               true,
               false,
               false,
               false,
               false,
               false,
               false,
               false,
               false,
               false,
               false,
               false,
               false,
               false,
               false,
               false,
               false,
               false
              ]
             }
            ],
            "label": "1289.17",
            "method": "update"
           },
           {
            "args": [
             {
              "visible": [
               false,
               null,
               null,
               null,
               null,
               null,
               "legendonly",
               "legendonly",
               "legendonly",
               false,
               false,
               false,
               false,
               false,
               false,
               false,
               false,
               false,
               false,
               false,
               false,
               false,
               false,
               false,
               false,
               false,
               false,
               false,
               false,
               true,
               false,
               false,
               false,
               false,
               false,
               false,
               false,
               false,
               false,
               false,
               false,
               false,
               false,
               false,
               false,
               false
              ]
             }
            ],
            "label": "1381.25",
            "method": "update"
           },
           {
            "args": [
             {
              "visible": [
               false,
               null,
               null,
               null,
               null,
               null,
               "legendonly",
               "legendonly",
               "legendonly",
               false,
               false,
               false,
               false,
               false,
               false,
               false,
               false,
               false,
               false,
               false,
               false,
               false,
               false,
               false,
               false,
               false,
               false,
               false,
               false,
               false,
               true,
               false,
               false,
               false,
               false,
               false,
               false,
               false,
               false,
               false,
               false,
               false,
               false,
               false,
               false,
               false
              ]
             }
            ],
            "label": "1473.33",
            "method": "update"
           },
           {
            "args": [
             {
              "visible": [
               false,
               null,
               null,
               null,
               null,
               null,
               "legendonly",
               "legendonly",
               "legendonly",
               false,
               false,
               false,
               false,
               false,
               false,
               false,
               false,
               false,
               false,
               false,
               false,
               false,
               false,
               false,
               false,
               false,
               false,
               false,
               false,
               false,
               false,
               true,
               false,
               false,
               false,
               false,
               false,
               false,
               false,
               false,
               false,
               false,
               false,
               false,
               false,
               false
              ]
             }
            ],
            "label": "1565.42",
            "method": "update"
           },
           {
            "args": [
             {
              "visible": [
               false,
               null,
               null,
               null,
               null,
               null,
               "legendonly",
               "legendonly",
               "legendonly",
               false,
               false,
               false,
               false,
               false,
               false,
               false,
               false,
               false,
               false,
               false,
               false,
               false,
               false,
               false,
               false,
               false,
               false,
               false,
               false,
               false,
               false,
               false,
               true,
               false,
               false,
               false,
               false,
               false,
               false,
               false,
               false,
               false,
               false,
               false,
               false,
               false
              ]
             }
            ],
            "label": "1657.5",
            "method": "update"
           },
           {
            "args": [
             {
              "visible": [
               false,
               null,
               null,
               null,
               null,
               null,
               "legendonly",
               "legendonly",
               "legendonly",
               false,
               false,
               false,
               false,
               false,
               false,
               false,
               false,
               false,
               false,
               false,
               false,
               false,
               false,
               false,
               false,
               false,
               false,
               false,
               false,
               false,
               false,
               false,
               false,
               true,
               false,
               false,
               false,
               false,
               false,
               false,
               false,
               false,
               false,
               false,
               false,
               false
              ]
             }
            ],
            "label": "1749.58",
            "method": "update"
           },
           {
            "args": [
             {
              "visible": [
               false,
               null,
               null,
               null,
               null,
               null,
               "legendonly",
               "legendonly",
               "legendonly",
               false,
               false,
               false,
               false,
               false,
               false,
               false,
               false,
               false,
               false,
               false,
               false,
               false,
               false,
               false,
               false,
               false,
               false,
               false,
               false,
               false,
               false,
               false,
               false,
               false,
               true,
               false,
               false,
               false,
               false,
               false,
               false,
               false,
               false,
               false,
               false,
               false
              ]
             }
            ],
            "label": "1841.67",
            "method": "update"
           },
           {
            "args": [
             {
              "visible": [
               false,
               null,
               null,
               null,
               null,
               null,
               "legendonly",
               "legendonly",
               "legendonly",
               false,
               false,
               false,
               false,
               false,
               false,
               false,
               false,
               false,
               false,
               false,
               false,
               false,
               false,
               false,
               false,
               false,
               false,
               false,
               false,
               false,
               false,
               false,
               false,
               false,
               false,
               true,
               false,
               false,
               false,
               false,
               false,
               false,
               false,
               false,
               false,
               false
              ]
             }
            ],
            "label": "1933.75",
            "method": "update"
           },
           {
            "args": [
             {
              "visible": [
               false,
               null,
               null,
               null,
               null,
               null,
               "legendonly",
               "legendonly",
               "legendonly",
               false,
               false,
               false,
               false,
               false,
               false,
               false,
               false,
               false,
               false,
               false,
               false,
               false,
               false,
               false,
               false,
               false,
               false,
               false,
               false,
               false,
               false,
               false,
               false,
               false,
               false,
               false,
               true,
               false,
               false,
               false,
               false,
               false,
               false,
               false,
               false,
               false
              ]
             }
            ],
            "label": "2025.83",
            "method": "update"
           },
           {
            "args": [
             {
              "visible": [
               false,
               null,
               null,
               null,
               null,
               null,
               "legendonly",
               "legendonly",
               "legendonly",
               false,
               false,
               false,
               false,
               false,
               false,
               false,
               false,
               false,
               false,
               false,
               false,
               false,
               false,
               false,
               false,
               false,
               false,
               false,
               false,
               false,
               false,
               false,
               false,
               false,
               false,
               false,
               false,
               true,
               false,
               false,
               false,
               false,
               false,
               false,
               false,
               false
              ]
             }
            ],
            "label": "2117.92",
            "method": "update"
           }
          ],
          "tickcolor": "white",
          "ticklen": 0,
          "x": 0.6052631578947368,
          "xanchor": "left",
          "y": 0.01,
          "yanchor": "bottom"
         },
         {
          "active": 0,
          "currentvalue": {
           "prefix": "Iteration: "
          },
          "len": 0.39473684210526316,
          "lenmode": "fraction",
          "steps": [
           {
            "args": [
             {
              "visible": [
               false,
               null,
               null,
               null,
               null,
               null,
               "legendonly",
               "legendonly",
               "legendonly",
               false,
               false,
               false,
               false,
               false,
               false,
               false,
               false,
               false,
               false,
               false,
               false,
               false,
               false,
               false,
               false,
               false,
               false,
               false,
               false,
               false,
               false,
               false,
               false,
               false,
               false,
               false,
               false,
               false,
               false,
               true,
               false,
               false,
               false,
               false,
               true,
               true
              ]
             }
            ],
            "label": "0",
            "method": "update"
           },
           {
            "args": [
             {
              "visible": [
               false,
               null,
               null,
               null,
               null,
               null,
               "legendonly",
               "legendonly",
               "legendonly",
               false,
               false,
               false,
               false,
               false,
               false,
               false,
               false,
               false,
               false,
               false,
               false,
               false,
               false,
               false,
               false,
               false,
               false,
               false,
               false,
               false,
               false,
               false,
               false,
               false,
               false,
               false,
               false,
               false,
               false,
               false,
               true,
               false,
               true,
               false,
               true,
               true
              ]
             }
            ],
            "label": "",
            "method": "update"
           },
           {
            "args": [
             {
              "visible": [
               false,
               null,
               null,
               null,
               null,
               null,
               "legendonly",
               "legendonly",
               "legendonly",
               false,
               false,
               false,
               false,
               false,
               false,
               false,
               false,
               false,
               false,
               false,
               false,
               false,
               false,
               false,
               false,
               false,
               false,
               false,
               false,
               false,
               false,
               false,
               false,
               false,
               false,
               false,
               false,
               false,
               false,
               false,
               true,
               true,
               false,
               true,
               true,
               true
              ]
             }
            ],
            "label": "1",
            "method": "update"
           }
          ],
          "tickcolor": "white",
          "ticklen": 0,
          "x": 0.6052631578947368,
          "xanchor": "left",
          "y": 0.17,
          "yanchor": "bottom"
         }
        ]
       },
       "config": {
        "doubleClick": false,
        "displayModeBar": false,
        "editable": false,
        "responsive": false,
        "showAxisDragHandles": false,
        "showAxisRangeEntryBoxes": false,
        "plotlyServerURL": "https://plot.ly"
       }
      },
      "text/html": "<div>                            <div id=\"699fd232-e4d5-4241-b622-b3b724e277a9\" class=\"plotly-graph-div\" style=\"height:500px; width:950px;\"></div>            <script type=\"text/javascript\">                require([\"plotly\"], function(Plotly) {                    window.PLOTLYENV=window.PLOTLYENV || {};                                    if (document.getElementById(\"699fd232-e4d5-4241-b622-b3b724e277a9\")) {                    Plotly.newPlot(                        \"699fd232-e4d5-4241-b622-b3b724e277a9\",                        [{\"visible\":false,\"x\":[65.0],\"y\":[39.0],\"z\":[104.0],\"type\":\"scatter3d\"},{\"line\":{\"color\":\"#003c8f\",\"width\":5},\"mode\":\"lines\",\"opacity\":0.2,\"surfaceaxis\":2,\"surfacecolor\":\"#1565c0\",\"x\":[20.0,20.0,40.0,20.0],\"y\":[30.0,0.0,0.0,30.0],\"z\":[50.0,80.0,60.0,50.0],\"type\":\"scatter3d\"},{\"line\":{\"color\":\"#003c8f\",\"width\":5},\"mode\":\"lines\",\"opacity\":0.2,\"surfaceaxis\":2,\"surfacecolor\":\"#1565c0\",\"x\":[20.0,20.0,50.0,20.0],\"y\":[30.0,0.0,0.0,30.0],\"z\":[50.0,80.0,20.0,50.0],\"type\":\"scatter3d\"},{\"line\":{\"color\":\"#003c8f\",\"width\":5},\"mode\":\"lines\",\"opacity\":0.2,\"surfaceaxis\":2,\"surfacecolor\":\"#1565c0\",\"x\":[20.0,50.0,40.0,20.0],\"y\":[30.0,0.0,0.0,30.0],\"z\":[50.0,20.0,60.0,50.0],\"type\":\"scatter3d\"},{\"line\":{\"color\":\"#003c8f\",\"width\":5},\"mode\":\"lines\",\"opacity\":0.2,\"surfaceaxis\":1,\"surfacecolor\":\"#1565c0\",\"x\":[20.0,50.0,40.0,20.0],\"y\":[0.0,0.0,0.0,0.0],\"z\":[80.0,20.0,60.0,80.0],\"type\":\"scatter3d\"},{\"hoverinfo\":\"text\",\"hoverlabel\":{\"align\":\"left\",\"bgcolor\":\"#ffffff\",\"bordercolor\":\"#404040\",\"font\":{\"color\":\"#404040\",\"family\":\"Arial\"}},\"marker\":{\"color\":\"gray\",\"opacity\":1e-07,\"size\":20},\"text\":[\"\\u003cb\\u003eBFS\\u003c\\u002fb\\u003e: (50, 0, 20, 30, 0, 0)\\u003cbr\\u003e\\u003cb\\u003eB\\u003c\\u002fb\\u003e: (1, 3, 4)\\u003cbr\\u003e\\u003cb\\u003eObj\\u003c\\u002fb\\u003e: 1100\",\"\\u003cb\\u003eBFS\\u003c\\u002fb\\u003e: (20, 30, 50, 0, 0, 0)\\u003cbr\\u003e\\u003cb\\u003eB\\u003c\\u002fb\\u003e: (1, 2, 3)\\u003cbr\\u003e\\u003cb\\u003eObj\\u003c\\u002fb\\u003e: 950\",\"\\u003cb\\u003eBFS\\u003c\\u002fb\\u003e: (20, 0, 80, 0, 0, 30)\\u003cbr\\u003e\\u003cb\\u003eB\\u003c\\u002fb\\u003e: (1, 3, 6)\\u003cbr\\u003e\\u003cb\\u003eObj\\u003c\\u002fb\\u003e: 800\",\"\\u003cb\\u003eBFS\\u003c\\u002fb\\u003e: (40, 0, 60, 0, 20, 0)\\u003cbr\\u003e\\u003cb\\u003eB\\u003c\\u002fb\\u003e: (1, 3, 5)\\u003cbr\\u003e\\u003cb\\u003eObj\\u003c\\u002fb\\u003e: 1100\"],\"x\":[50.0,20.0,20.0,40.0],\"y\":[0.0,30.0,0.0,0.0],\"z\":[20.0,50.0,80.0,60.0],\"type\":\"scatter3d\"},{\"mode\":\"none\",\"name\":\"(4) 1x\\u003csub\\u003e1\\u003c\\u002fsub\\u003e + 1x\\u003csub\\u003e2\\u003c\\u002fsub\\u003e + 1x\\u003csub\\u003e3\\u003c\\u002fsub\\u003e \\u2264 100\",\"opacity\":0.5,\"showlegend\":true,\"surfaceaxis\":2,\"surfacecolor\":\"gray\",\"visible\":\"legendonly\",\"x\":[0.0,65.0,65.0,0.0,0.0],\"y\":[0.0,0.0,39.0,39.0,0.0],\"z\":[100.0,35.0,-4.0,61.0,100.0],\"type\":\"scatter3d\"},{\"mode\":\"none\",\"name\":\"(5) -2x\\u003csub\\u003e1\\u003c\\u002fsub\\u003e - 1x\\u003csub\\u003e2\\u003c\\u002fsub\\u003e - 1x\\u003csub\\u003e3\\u003c\\u002fsub\\u003e \\u2264 -120\",\"opacity\":0.5,\"showlegend\":true,\"surfaceaxis\":2,\"surfacecolor\":\"gray\",\"visible\":\"legendonly\",\"x\":[0.0,65.0,65.0,0.0,0.0],\"y\":[39.0,39.0,0.0,0.0,39.0],\"z\":[81.0,-49.0,-10.0,120.0,81.0],\"type\":\"scatter3d\"},{\"mode\":\"none\",\"name\":\"(6) 2x\\u003csub\\u003e1\\u003c\\u002fsub\\u003e + 1.5x\\u003csub\\u003e2\\u003c\\u002fsub\\u003e + 0.5x\\u003csub\\u003e3\\u003c\\u002fsub\\u003e \\u2264 110\",\"opacity\":0.5,\"showlegend\":true,\"surfaceaxis\":2,\"surfacecolor\":\"gray\",\"visible\":\"legendonly\",\"x\":[0.0,65.0,65.0,0.0,0.0],\"y\":[39.0,39.0,0.0,0.0,39.0],\"z\":[103.0,-157.0,-40.0,220.0,103.0],\"type\":\"scatter3d\"},{\"mode\":\"none\",\"opacity\":0.3,\"surfaceaxis\":2,\"surfacecolor\":\"gray\",\"visible\":false,\"x\":[0.0,0.0,65.0,65.0,0.0],\"y\":[39.0,0.0,0.0,39.0,39.0],\"z\":[-78.0,0.0,-260.0,-338.0,-78.0],\"type\":\"scatter3d\"},{\"mode\":\"none\",\"opacity\":0.3,\"surfaceaxis\":2,\"surfacecolor\":\"gray\",\"visible\":false,\"x\":[0.0,0.0,65.0,65.0,0.0],\"y\":[0.0,39.0,39.0,0.0,0.0],\"z\":[18.416,-59.584,-319.584,-241.584,18.416],\"type\":\"scatter3d\"},{\"mode\":\"none\",\"opacity\":0.3,\"surfaceaxis\":2,\"surfacecolor\":\"gray\",\"visible\":false,\"x\":[65.0,0.0,0.0,65.0,65.0],\"y\":[39.0,39.0,0.0,0.0,39.0],\"z\":[-301.166,-41.166000000000004,36.833999999999996,-223.166,-301.166],\"type\":\"scatter3d\"},{\"mode\":\"none\",\"opacity\":0.3,\"surfaceaxis\":2,\"surfacecolor\":\"gray\",\"visible\":false,\"x\":[0.0,0.0,65.0,65.0,0.0],\"y\":[39.0,0.0,0.0,39.0,39.0],\"z\":[-22.75,55.25,-204.75,-282.75,-22.75],\"type\":\"scatter3d\"},{\"mode\":\"none\",\"opacity\":0.3,\"surfaceaxis\":2,\"surfacecolor\":\"gray\",\"visible\":false,\"x\":[0.0,65.0,65.0,0.0,0.0],\"y\":[39.0,39.0,0.0,0.0,39.0],\"z\":[-4.334000000000003,-264.334,-186.334,73.666,-4.334000000000003],\"type\":\"scatter3d\"},{\"mode\":\"none\",\"opacity\":0.3,\"surfaceaxis\":2,\"surfacecolor\":\"gray\",\"visible\":false,\"x\":[0.0,0.0,65.0,65.0,0.0],\"y\":[39.0,0.0,0.0,39.0,39.0],\"z\":[14.084000000000003,92.084,-167.916,-245.916,14.084000000000003],\"type\":\"scatter3d\"},{\"mode\":\"none\",\"opacity\":0.3,\"surfaceaxis\":2,\"surfacecolor\":\"gray\",\"visible\":false,\"x\":[0.0,0.0,65.0,65.0,0.0],\"y\":[0.0,39.0,39.0,0.0,0.0],\"z\":[110.5,32.5,-227.5,-149.5,110.5],\"type\":\"scatter3d\"},{\"mode\":\"none\",\"opacity\":0.3,\"surfaceaxis\":2,\"surfacecolor\":\"gray\",\"visible\":false,\"x\":[65.0,0.0,0.0,65.0,65.0],\"y\":[39.0,39.0,0.0,0.0,39.0],\"z\":[-209.084,50.91600000000001,128.916,-131.084,-209.084],\"type\":\"scatter3d\"},{\"mode\":\"none\",\"opacity\":0.3,\"surfaceaxis\":2,\"surfacecolor\":\"gray\",\"visible\":false,\"x\":[65.0,0.0,0.0,65.0,65.0],\"y\":[0.0,0.0,39.0,39.0,0.0],\"z\":[-112.66600000000001,147.334,69.33399999999999,-190.666,-112.66600000000001],\"type\":\"scatter3d\"},{\"mode\":\"none\",\"opacity\":0.3,\"surfaceaxis\":2,\"surfacecolor\":\"gray\",\"visible\":false,\"x\":[0.0,0.0,65.0,65.0,0.0],\"y\":[0.0,39.0,39.0,0.0,0.0],\"z\":[165.75,87.75,-172.25,-94.25,165.75],\"type\":\"scatter3d\"},{\"line\":{\"color\":\"#d50000\",\"width\":5},\"marker\":{\"color\":\"#d50000\",\"size\":5,\"symbol\":\"circle\"},\"mode\":\"lines+markers\",\"surfaceaxis\":2,\"surfacecolor\":\"#d50000\",\"visible\":false,\"x\":[22.875,21.916666666667,20.0,22.875],\"y\":[0.0,-0.0,5.75,0.0],\"z\":[74.25,78.083333333333,74.25,74.25],\"type\":\"scatter3d\"},{\"mode\":\"none\",\"opacity\":0.3,\"surfaceaxis\":2,\"surfacecolor\":\"gray\",\"visible\":false,\"x\":[65.0,65.0,0.0,0.0,65.0],\"y\":[0.0,39.0,39.0,0.0,0.0],\"z\":[-75.83399999999999,-153.834,106.16600000000001,184.166,-75.83399999999999],\"type\":\"scatter3d\"},{\"line\":{\"color\":\"#d50000\",\"width\":5},\"marker\":{\"color\":\"#d50000\",\"size\":5,\"symbol\":\"circle\"},\"mode\":\"lines+markers\",\"surfaceaxis\":2,\"surfacecolor\":\"#d50000\",\"visible\":false,\"x\":[32.083,28.055333333333,20.0,32.083],\"y\":[0.0,0.0,24.166,0.0],\"z\":[55.834,71.944666666667,55.834,55.834],\"type\":\"scatter3d\"},{\"mode\":\"none\",\"opacity\":0.3,\"surfaceaxis\":2,\"surfacecolor\":\"gray\",\"visible\":false,\"x\":[0.0,65.0,65.0,0.0,0.0],\"y\":[39.0,39.0,0.0,0.0,39.0],\"z\":[124.58399999999999,-135.416,-57.41600000000001,202.584,124.58399999999999],\"type\":\"scatter3d\"},{\"line\":{\"color\":\"#d50000\",\"width\":5},\"marker\":{\"color\":\"#d50000\",\"size\":5,\"symbol\":\"circle\"},\"mode\":\"lines+markers\",\"surfaceaxis\":2,\"surfacecolor\":\"#d50000\",\"visible\":false,\"x\":[41.292,32.584,28.389333333333,34.194666666667,41.292],\"y\":[-0.0,17.416,17.416,0.0,-0.0],\"z\":[37.416,37.416,54.194666666667,65.805333333333,37.416],\"type\":\"scatter3d\"},{\"mode\":\"none\",\"opacity\":0.3,\"surfaceaxis\":2,\"surfacecolor\":\"gray\",\"visible\":false,\"x\":[0.0,65.0,65.0,0.0,0.0],\"y\":[39.0,39.0,0.0,0.0,39.0],\"z\":[142.0,-118.0,-40.0,220.0,142.0],\"type\":\"scatter3d\"},{\"line\":{\"color\":\"#d50000\",\"width\":5},\"marker\":{\"color\":\"#d50000\",\"size\":5,\"symbol\":\"circle\"},\"mode\":\"lines+markers\",\"surfaceaxis\":2,\"surfacecolor\":\"#d50000\",\"visible\":false,\"x\":[50.0,40.0],\"y\":[0.0,-0.0],\"z\":[20.0,60.0],\"type\":\"scatter3d\"},{\"mode\":\"none\",\"opacity\":0.3,\"surfaceaxis\":2,\"surfacecolor\":\"gray\",\"visible\":false,\"x\":[0.0,65.0,65.0,0.0,0.0],\"y\":[39.0,39.0,0.0,0.0,39.0],\"z\":[143.0,-117.0,-39.0,221.0,143.0],\"type\":\"scatter3d\"},{\"mode\":\"none\",\"opacity\":0.3,\"surfaceaxis\":2,\"surfacecolor\":\"gray\",\"visible\":false,\"x\":[0.0,65.0,65.0,0.0,0.0],\"y\":[0.0,0.0,39.0,39.0,0.0],\"z\":[239.416,-20.584000000000014,-98.58400000000002,161.416,239.416],\"type\":\"scatter3d\"},{\"mode\":\"none\",\"opacity\":0.3,\"surfaceaxis\":2,\"surfacecolor\":\"gray\",\"visible\":false,\"x\":[65.0,0.0,0.0,65.0,65.0],\"y\":[39.0,39.0,0.0,0.0,39.0],\"z\":[-80.16599999999998,179.834,257.834,-2.1659999999999853,-80.16599999999998],\"type\":\"scatter3d\"},{\"mode\":\"none\",\"opacity\":0.3,\"surfaceaxis\":2,\"surfacecolor\":\"gray\",\"visible\":false,\"x\":[0.0,0.0,65.0,65.0,0.0],\"y\":[39.0,0.0,0.0,39.0,39.0],\"z\":[198.25,276.25,16.25,-61.75,198.25],\"type\":\"scatter3d\"},{\"mode\":\"none\",\"opacity\":0.3,\"surfaceaxis\":2,\"surfacecolor\":\"gray\",\"visible\":false,\"x\":[0.0,65.0,65.0,0.0,0.0],\"y\":[39.0,39.0,0.0,0.0,39.0],\"z\":[216.666,-43.33400000000002,34.66599999999998,294.666,216.666],\"type\":\"scatter3d\"},{\"mode\":\"none\",\"opacity\":0.3,\"surfaceaxis\":2,\"surfacecolor\":\"gray\",\"visible\":false,\"x\":[0.0,65.0,65.0,0.0,0.0],\"y\":[0.0,0.0,39.0,39.0,0.0],\"z\":[313.084,53.08400000000002,-24.915999999999986,235.084,313.084],\"type\":\"scatter3d\"},{\"mode\":\"none\",\"opacity\":0.3,\"surfaceaxis\":2,\"surfacecolor\":\"gray\",\"visible\":false,\"x\":[0.0,65.0,65.0,0.0,0.0],\"y\":[0.0,0.0,39.0,39.0,0.0],\"z\":[331.5,71.5,-6.5,253.5,331.5],\"type\":\"scatter3d\"},{\"mode\":\"none\",\"opacity\":0.3,\"surfaceaxis\":2,\"surfacecolor\":\"gray\",\"visible\":false,\"x\":[0.0,65.0,65.0,0.0,0.0],\"y\":[39.0,39.0,0.0,0.0,39.0],\"z\":[271.916,11.915999999999986,89.91599999999998,349.916,271.916],\"type\":\"scatter3d\"},{\"mode\":\"none\",\"opacity\":0.3,\"surfaceaxis\":2,\"surfacecolor\":\"gray\",\"visible\":false,\"x\":[65.0,0.0,0.0,65.0,65.0],\"y\":[0.0,0.0,39.0,39.0,0.0],\"z\":[108.33400000000002,368.334,290.334,30.334000000000014,108.33400000000002],\"type\":\"scatter3d\"},{\"mode\":\"none\",\"opacity\":0.3,\"surfaceaxis\":2,\"surfacecolor\":\"gray\",\"visible\":false,\"x\":[0.0,0.0,65.0,65.0,0.0],\"y\":[0.0,39.0,39.0,0.0,0.0],\"z\":[386.75,308.75,48.75,126.75,386.75],\"type\":\"scatter3d\"},{\"mode\":\"none\",\"opacity\":0.3,\"surfaceaxis\":2,\"surfacecolor\":\"gray\",\"visible\":false,\"x\":[65.0,0.0,0.0,65.0,65.0],\"y\":[39.0,39.0,0.0,0.0,39.0],\"z\":[67.16599999999998,327.166,405.166,145.166,67.16599999999998],\"type\":\"scatter3d\"},{\"mode\":\"none\",\"opacity\":0.3,\"surfaceaxis\":2,\"surfacecolor\":\"gray\",\"visible\":false,\"x\":[0.0,0.0,65.0,65.0,0.0],\"y\":[39.0,0.0,0.0,39.0,39.0],\"z\":[345.584,423.584,163.584,85.58400000000002,345.584],\"type\":\"scatter3d\"},{\"mode\":\"none\",\"opacity\":0.3,\"surfaceaxis\":2,\"surfacecolor\":\"gray\",\"visible\":false,\"x\":[0.0,0.0,65.0,65.0,0.0],\"y\":[0.0,39.0,39.0,0.0,0.0],\"z\":[442.0,364.0,104.0,182.0,442.0],\"type\":\"scatter3d\"},{\"cells\":{\"align\":[\"left\",\"right\",\"left\"],\"font\":{\"size\":14},\"height\":25,\"line\":{\"color\":\"#ffffff\",\"width\":1},\"values\":[[\"max\\u003cbr\\u003es.t.\\u003cbr\\u003e \\u003cbr\\u003e \"],[\"z\\u003cbr\\u003ex\\u003csub\\u003e1\\u003c\\u002fsub\\u003e\\u003cbr\\u003ex\\u003csub\\u003e2\\u003c\\u002fsub\\u003e\\u003cbr\\u003ex\\u003csub\\u003e3\\u003c\\u002fsub\\u003e\"],[\"= 950 + 5x\\u003csub\\u003e4\\u003c\\u002fsub\\u003e + 7.5x\\u003csub\\u003e5\\u003c\\u002fsub\\u003e - 5x\\u003csub\\u003e6\\u003c\\u002fsub\\u003e\\u003cbr\\u003e= 20 + 1x\\u003csub\\u003e4\\u003c\\u002fsub\\u003e + 1x\\u003csub\\u003e5\\u003c\\u002fsub\\u003e + 0x\\u003csub\\u003e6\\u003c\\u002fsub\\u003e\\u003cbr\\u003e= 30 - 1x\\u003csub\\u003e4\\u003c\\u002fsub\\u003e - 1.5x\\u003csub\\u003e5\\u003c\\u002fsub\\u003e - 1x\\u003csub\\u003e6\\u003c\\u002fsub\\u003e\\u003cbr\\u003e= 50 - 1x\\u003csub\\u003e4\\u003c\\u002fsub\\u003e + 0.5x\\u003csub\\u003e5\\u003c\\u002fsub\\u003e + 1x\\u003csub\\u003e6\\u003c\\u002fsub\\u003e\"]]},\"columnwidth\":[0.13333333333333333,0.06666666666666667,0.8],\"header\":{\"align\":[\"left\",\"right\",\"left\"],\"font\":{\"size\":14},\"height\":25,\"line\":{\"color\":\"#ffffff\",\"width\":1},\"values\":[\"\\u003cb\\u003e(0)\\u003c\\u002fb\\u003e\",\" \",\" \"]},\"visible\":true,\"type\":\"table\",\"domain\":{\"x\":[0.6052631578947368,1.0],\"y\":[0.0,1.0]}},{\"line\":{\"color\":\"#d50000\",\"width\":5},\"mode\":\"lines\",\"visible\":false,\"x\":[20.0,35.0],\"y\":[30.0,15.0],\"z\":[50.0,35.0],\"type\":\"scatter3d\"},{\"line\":{\"color\":\"#d50000\",\"width\":5},\"mode\":\"lines\",\"visible\":false,\"x\":[20.0,50.0],\"y\":[30.0,0.0],\"z\":[50.0,20.0],\"type\":\"scatter3d\"},{\"cells\":{\"align\":[\"left\",\"right\",\"left\"],\"font\":{\"size\":14},\"height\":25,\"line\":{\"color\":\"#ffffff\",\"width\":1},\"values\":[[\"max\\u003cbr\\u003es.t.\\u003cbr\\u003e \\u003cbr\\u003e \",\"\\u003cb\\u003e(0)\\u003c\\u002fb\\u003e\",\"max\\u003cbr\\u003es.t.\\u003cbr\\u003e \\u003cbr\\u003e \"],[\"z\\u003cbr\\u003ex\\u003csub\\u003e1\\u003c\\u002fsub\\u003e\\u003cbr\\u003ex\\u003csub\\u003e3\\u003c\\u002fsub\\u003e\\u003cbr\\u003ex\\u003csub\\u003e4\\u003c\\u002fsub\\u003e\",\" \",\"z\\u003cbr\\u003ex\\u003csub\\u003e1\\u003c\\u002fsub\\u003e\\u003cbr\\u003ex\\u003csub\\u003e2\\u003c\\u002fsub\\u003e\\u003cbr\\u003ex\\u003csub\\u003e3\\u003c\\u002fsub\\u003e\"],[\"= 1100 - 5x\\u003csub\\u003e2\\u003c\\u002fsub\\u003e + 0x\\u003csub\\u003e5\\u003c\\u002fsub\\u003e - 10x\\u003csub\\u003e6\\u003c\\u002fsub\\u003e\\u003cbr\\u003e= 50 - 1x\\u003csub\\u003e2\\u003c\\u002fsub\\u003e - 0.5x\\u003csub\\u003e5\\u003c\\u002fsub\\u003e - 1x\\u003csub\\u003e6\\u003c\\u002fsub\\u003e\\u003cbr\\u003e= 20 + 1x\\u003csub\\u003e2\\u003c\\u002fsub\\u003e + 2x\\u003csub\\u003e5\\u003c\\u002fsub\\u003e + 2x\\u003csub\\u003e6\\u003c\\u002fsub\\u003e\\u003cbr\\u003e= 30 - 1x\\u003csub\\u003e2\\u003c\\u002fsub\\u003e - 1.5x\\u003csub\\u003e5\\u003c\\u002fsub\\u003e - 1x\\u003csub\\u003e6\\u003c\\u002fsub\\u003e\",\" \",\"= 950 + 5x\\u003csub\\u003e4\\u003c\\u002fsub\\u003e + 7.5x\\u003csub\\u003e5\\u003c\\u002fsub\\u003e - 5x\\u003csub\\u003e6\\u003c\\u002fsub\\u003e\\u003cbr\\u003e= 20 + 1x\\u003csub\\u003e4\\u003c\\u002fsub\\u003e + 1x\\u003csub\\u003e5\\u003c\\u002fsub\\u003e + 0x\\u003csub\\u003e6\\u003c\\u002fsub\\u003e\\u003cbr\\u003e= 30 - 1x\\u003csub\\u003e4\\u003c\\u002fsub\\u003e - 1.5x\\u003csub\\u003e5\\u003c\\u002fsub\\u003e - 1x\\u003csub\\u003e6\\u003c\\u002fsub\\u003e\\u003cbr\\u003e= 50 - 1x\\u003csub\\u003e4\\u003c\\u002fsub\\u003e + 0.5x\\u003csub\\u003e5\\u003c\\u002fsub\\u003e + 1x\\u003csub\\u003e6\\u003c\\u002fsub\\u003e\"]]},\"columnwidth\":[0.13333333333333333,0.06666666666666667,0.8],\"header\":{\"align\":[\"left\",\"right\",\"left\"],\"font\":{\"size\":14},\"height\":25,\"line\":{\"color\":\"#ffffff\",\"width\":1},\"values\":[\"\\u003cb\\u003e(1)\\u003c\\u002fb\\u003e\",\" \",\" \"]},\"type\":\"table\",\"domain\":{\"x\":[0.6052631578947368,1.0],\"y\":[0.0,1.0]}},{\"cells\":{\"align\":[\"left\",\"right\",\"left\"],\"font\":{\"size\":14},\"height\":25,\"line\":{\"color\":\"#ffffff\",\"width\":1},\"values\":[[\"max\\u003cbr\\u003es.t.\\u003cbr\\u003e \\u003cbr\\u003e \"],[\"z\\u003cbr\\u003ex\\u003csub\\u003e1\\u003c\\u002fsub\\u003e\\u003cbr\\u003ex\\u003csub\\u003e3\\u003c\\u002fsub\\u003e\\u003cbr\\u003ex\\u003csub\\u003e4\\u003c\\u002fsub\\u003e\"],[\"= 1100 - 5x\\u003csub\\u003e2\\u003c\\u002fsub\\u003e + 0x\\u003csub\\u003e5\\u003c\\u002fsub\\u003e - 10x\\u003csub\\u003e6\\u003c\\u002fsub\\u003e\\u003cbr\\u003e= 50 - 1x\\u003csub\\u003e2\\u003c\\u002fsub\\u003e - 0.5x\\u003csub\\u003e5\\u003c\\u002fsub\\u003e - 1x\\u003csub\\u003e6\\u003c\\u002fsub\\u003e\\u003cbr\\u003e= 20 + 1x\\u003csub\\u003e2\\u003c\\u002fsub\\u003e + 2x\\u003csub\\u003e5\\u003c\\u002fsub\\u003e + 2x\\u003csub\\u003e6\\u003c\\u002fsub\\u003e\\u003cbr\\u003e= 30 - 1x\\u003csub\\u003e2\\u003c\\u002fsub\\u003e - 1.5x\\u003csub\\u003e5\\u003c\\u002fsub\\u003e - 1x\\u003csub\\u003e6\\u003c\\u002fsub\\u003e\"]]},\"columnwidth\":[0.13333333333333333,0.06666666666666667,0.8],\"header\":{\"align\":[\"left\",\"right\",\"left\"],\"font\":{\"size\":14},\"height\":25,\"line\":{\"color\":\"#ffffff\",\"width\":1},\"values\":[\"\\u003cb\\u003e(1)\\u003c\\u002fb\\u003e\",\" \",\" \"]},\"type\":\"table\",\"domain\":{\"x\":[0.6052631578947368,1.0],\"y\":[0.0,1.0]}},{\"x\":[20.0],\"y\":[30.0],\"z\":[50.0],\"type\":\"scatter3d\"},{\"marker\":{\"color\":\"#d50000\",\"symbol\":\"circle\"},\"x\":[50.0],\"y\":[0.0],\"z\":[20.0],\"type\":\"scatter3d\"}],                        {\"template\":{\"data\":{\"scatter3d\":[{\"hoverinfo\":\"none\",\"line\":{\"color\":\"#1565c0\",\"width\":6},\"marker\":{\"color\":\"#ff5131\",\"line\":{\"color\":\"#d50000\",\"width\":1},\"opacity\":0.99,\"size\":5,\"symbol\":\"circle-open\"},\"mode\":\"markers\",\"showlegend\":false,\"surfacecolor\":\"#5e92f3\",\"visible\":true,\"type\":\"scatter3d\"}],\"scatter\":[{\"cliponaxis\":false,\"fillcolor\":\"#1565c0\",\"hoverinfo\":\"none\",\"line\":{\"color\":\"#1469FE\",\"width\":4},\"marker\":{\"color\":\"#ffffff\",\"line\":{\"color\":\"#d50000\",\"width\":2},\"opacity\":0.99,\"size\":9},\"mode\":\"markers\",\"showlegend\":false,\"visible\":true,\"type\":\"scatter\"},{\"cliponaxis\":false,\"fillcolor\":\"#1565c0\",\"hoverinfo\":\"none\",\"line\":{\"color\":\"#9495A6\",\"width\":4},\"marker\":{\"color\":\"#ffffff\",\"line\":{\"color\":\"#d50000\",\"width\":2},\"opacity\":0.99,\"size\":9},\"mode\":\"markers\",\"showlegend\":false,\"visible\":true,\"type\":\"scatter\"},{\"cliponaxis\":false,\"fillcolor\":\"#1565c0\",\"hoverinfo\":\"none\",\"line\":{\"color\":\"#DC0000\",\"width\":4},\"marker\":{\"color\":\"#ffffff\",\"line\":{\"color\":\"#d50000\",\"width\":2},\"opacity\":0.99,\"size\":9},\"mode\":\"markers\",\"showlegend\":false,\"visible\":true,\"type\":\"scatter\"},{\"cliponaxis\":false,\"fillcolor\":\"#1565c0\",\"hoverinfo\":\"none\",\"line\":{\"color\":\"#173D90\",\"width\":4},\"marker\":{\"color\":\"#ffffff\",\"line\":{\"color\":\"#d50000\",\"width\":2},\"opacity\":0.99,\"size\":9},\"mode\":\"markers\",\"showlegend\":false,\"visible\":true,\"type\":\"scatter\"},{\"cliponaxis\":false,\"fillcolor\":\"#1565c0\",\"hoverinfo\":\"none\",\"line\":{\"color\":\"#65ADFF\",\"width\":4},\"marker\":{\"color\":\"#ffffff\",\"line\":{\"color\":\"#d50000\",\"width\":2},\"opacity\":0.99,\"size\":9},\"mode\":\"markers\",\"showlegend\":false,\"visible\":true,\"type\":\"scatter\"}],\"table\":[{\"cells\":{\"fill\":{\"color\":\"#ffffff\"},\"font\":{\"color\":[[\"black\",\"#d50000\",\"black\"],[\"black\",\"black\",\"black\"]]}},\"header\":{\"fill\":{\"color\":\"#ffffff\"},\"font\":{\"color\":[\"#d50000\",\"black\"]}},\"visible\":false,\"type\":\"table\"}]},\"layout\":{\"annotations\":[{\"align\":\"center\",\"ax\":0,\"ay\":0,\"bgcolor\":\"#45568B\",\"bordercolor\":\"#404040\",\"borderpad\":3,\"borderwidth\":2,\"font\":{\"color\":\"#ffffff\",\"size\":12},\"name\":\"current\",\"visible\":false},{\"align\":\"center\",\"ax\":0,\"ay\":0,\"bgcolor\":\"#d8e4f9\",\"bordercolor\":\"#404040\",\"borderpad\":3,\"borderwidth\":2,\"font\":{\"color\":\"#404040\",\"size\":12},\"name\":\"explored\",\"visible\":false},{\"align\":\"center\",\"ax\":0,\"ay\":0,\"bgcolor\":\"#ffffff\",\"bordercolor\":\"#404040\",\"borderpad\":3,\"borderwidth\":2,\"font\":{\"color\":\"#404040\",\"size\":12},\"name\":\"unexplored\",\"visible\":false}],\"clickmode\":\"none\",\"dragmode\":\"turntable\",\"font\":{\"color\":\"#404040\",\"family\":\"Arial\"},\"height\":500,\"hovermode\":\"closest\",\"legend\":{\"font\":{\"size\":13},\"title\":{\"font\":{\"size\":14},\"text\":\"\\u003cb\\u003eConstraint(s)\\u003c\\u002fb\\u003e\"},\"x\":0.39473684210526316,\"xanchor\":\"left\",\"y\":1,\"yanchor\":\"top\"},\"margin\":{\"b\":0,\"l\":0,\"r\":0,\"t\":33},\"paper_bgcolor\":\"#ffffff\",\"plot_bgcolor\":\"#ffffff\",\"scene\":{\"aspectmode\":\"cube\",\"domain\":{\"x\":[0,0.39473684210526316],\"y\":[0,1]},\"xaxis\":{\"backgroundcolor\":\"#ffffff\",\"gridcolor\":\"#DFDFDF\",\"gridwidth\":2,\"linecolor\":\"#404040\",\"rangemode\":\"tozero\",\"showbackground\":true,\"showspikes\":false,\"ticks\":\"\",\"title\":{\"text\":\"x\\u003csub\\u003e1\\u003c\\u002fsub\\u003e\"},\"zerolinecolor\":\"white\"},\"yaxis\":{\"backgroundcolor\":\"#ffffff\",\"gridcolor\":\"#DFDFDF\",\"gridwidth\":2,\"linecolor\":\"#404040\",\"rangemode\":\"tozero\",\"showbackground\":true,\"showspikes\":false,\"ticks\":\"\",\"title\":{\"text\":\"x\\u003csub\\u003e2\\u003c\\u002fsub\\u003e\"},\"zerolinecolor\":\"white\"},\"zaxis\":{\"backgroundcolor\":\"#ffffff\",\"gridcolor\":\"#DFDFDF\",\"gridwidth\":2,\"linecolor\":\"#404040\",\"rangemode\":\"tozero\",\"showbackground\":true,\"showspikes\":false,\"ticks\":\"\",\"title\":{\"text\":\"x\\u003csub\\u003e3\\u003c\\u002fsub\\u003e\"},\"zerolinecolor\":\"white\"}},\"width\":950}},\"scene\":{\"domain\":{\"x\":[0.0,0.39473684210526316],\"y\":[0.0,1.0]},\"xaxis\":{\"range\":[0,65.0]},\"yaxis\":{\"range\":[0,39.0]},\"zaxis\":{\"range\":[0,104.0]}},\"xaxis\":{\"domain\":[0.5,1],\"range\":[0,1],\"visible\":false},\"yaxis\":{\"domain\":[0.15,1],\"range\":[0,1],\"visible\":false},\"sliders\":[{\"active\":0,\"currentvalue\":{\"prefix\":\"Objective Value: \"},\"len\":0.39473684210526316,\"lenmode\":\"fraction\",\"steps\":[{\"args\":[{\"visible\":[false,null,null,null,null,null,\"legendonly\",\"legendonly\",\"legendonly\",true,false,false,false,false,false,false,false,false,false,false,false,false,false,false,false,false,false,false,false,false,false,false,false,false,false,false,false,false,false,false,false,false,false,false,false,false]}],\"label\":\"0.0\",\"method\":\"update\"},{\"args\":[{\"visible\":[false,null,null,null,null,null,\"legendonly\",\"legendonly\",\"legendonly\",false,true,false,false,false,false,false,false,false,false,false,false,false,false,false,false,false,false,false,false,false,false,false,false,false,false,false,false,false,false,false,false,false,false,false,false,false]}],\"label\":\"92.08\",\"method\":\"update\"},{\"args\":[{\"visible\":[false,null,null,null,null,null,\"legendonly\",\"legendonly\",\"legendonly\",false,false,true,false,false,false,false,false,false,false,false,false,false,false,false,false,false,false,false,false,false,false,false,false,false,false,false,false,false,false,false,false,false,false,false,false,false]}],\"label\":\"184.17\",\"method\":\"update\"},{\"args\":[{\"visible\":[false,null,null,null,null,null,\"legendonly\",\"legendonly\",\"legendonly\",false,false,false,true,false,false,false,false,false,false,false,false,false,false,false,false,false,false,false,false,false,false,false,false,false,false,false,false,false,false,false,false,false,false,false,false,false]}],\"label\":\"276.25\",\"method\":\"update\"},{\"args\":[{\"visible\":[false,null,null,null,null,null,\"legendonly\",\"legendonly\",\"legendonly\",false,false,false,false,true,false,false,false,false,false,false,false,false,false,false,false,false,false,false,false,false,false,false,false,false,false,false,false,false,false,false,false,false,false,false,false,false]}],\"label\":\"368.33\",\"method\":\"update\"},{\"args\":[{\"visible\":[false,null,null,null,null,null,\"legendonly\",\"legendonly\",\"legendonly\",false,false,false,false,false,true,false,false,false,false,false,false,false,false,false,false,false,false,false,false,false,false,false,false,false,false,false,false,false,false,false,false,false,false,false,false,false]}],\"label\":\"460.42\",\"method\":\"update\"},{\"args\":[{\"visible\":[false,null,null,null,null,null,\"legendonly\",\"legendonly\",\"legendonly\",false,false,false,false,false,false,true,false,false,false,false,false,false,false,false,false,false,false,false,false,false,false,false,false,false,false,false,false,false,false,false,false,false,false,false,false,false]}],\"label\":\"552.5\",\"method\":\"update\"},{\"args\":[{\"visible\":[false,null,null,null,null,null,\"legendonly\",\"legendonly\",\"legendonly\",false,false,false,false,false,false,false,true,false,false,false,false,false,false,false,false,false,false,false,false,false,false,false,false,false,false,false,false,false,false,false,false,false,false,false,false,false]}],\"label\":\"644.58\",\"method\":\"update\"},{\"args\":[{\"visible\":[false,null,null,null,null,null,\"legendonly\",\"legendonly\",\"legendonly\",false,false,false,false,false,false,false,false,true,false,false,false,false,false,false,false,false,false,false,false,false,false,false,false,false,false,false,false,false,false,false,false,false,false,false,false,false]}],\"label\":\"736.67\",\"method\":\"update\"},{\"args\":[{\"visible\":[false,null,null,null,null,null,\"legendonly\",\"legendonly\",\"legendonly\",false,false,false,false,false,false,false,false,false,true,true,false,false,false,false,false,false,false,false,false,false,false,false,false,false,false,false,false,false,false,false,false,false,false,false,false,false]}],\"label\":\"828.75\",\"method\":\"update\"},{\"args\":[{\"visible\":[false,null,null,null,null,null,\"legendonly\",\"legendonly\",\"legendonly\",false,false,false,false,false,false,false,false,false,false,false,true,true,false,false,false,false,false,false,false,false,false,false,false,false,false,false,false,false,false,false,false,false,false,false,false,false]}],\"label\":\"920.83\",\"method\":\"update\"},{\"args\":[{\"visible\":[false,null,null,null,null,null,\"legendonly\",\"legendonly\",\"legendonly\",false,false,false,false,false,false,false,false,false,false,false,false,false,true,true,false,false,false,false,false,false,false,false,false,false,false,false,false,false,false,false,false,false,false,false,false,false]}],\"label\":\"1012.92\",\"method\":\"update\"},{\"args\":[{\"visible\":[false,null,null,null,null,null,\"legendonly\",\"legendonly\",\"legendonly\",false,false,false,false,false,false,false,false,false,false,false,false,false,false,false,true,true,false,false,false,false,false,false,false,false,false,false,false,false,false,false,false,false,false,false,false,false]}],\"label\":\"1100.0\",\"method\":\"update\"},{\"args\":[{\"visible\":[false,null,null,null,null,null,\"legendonly\",\"legendonly\",\"legendonly\",false,false,false,false,false,false,false,false,false,false,false,false,false,false,false,false,false,true,false,false,false,false,false,false,false,false,false,false,false,false,false,false,false,false,false,false,false]}],\"label\":\"1105.0\",\"method\":\"update\"},{\"args\":[{\"visible\":[false,null,null,null,null,null,\"legendonly\",\"legendonly\",\"legendonly\",false,false,false,false,false,false,false,false,false,false,false,false,false,false,false,false,false,false,true,false,false,false,false,false,false,false,false,false,false,false,false,false,false,false,false,false,false]}],\"label\":\"1197.08\",\"method\":\"update\"},{\"args\":[{\"visible\":[false,null,null,null,null,null,\"legendonly\",\"legendonly\",\"legendonly\",false,false,false,false,false,false,false,false,false,false,false,false,false,false,false,false,false,false,false,true,false,false,false,false,false,false,false,false,false,false,false,false,false,false,false,false,false]}],\"label\":\"1289.17\",\"method\":\"update\"},{\"args\":[{\"visible\":[false,null,null,null,null,null,\"legendonly\",\"legendonly\",\"legendonly\",false,false,false,false,false,false,false,false,false,false,false,false,false,false,false,false,false,false,false,false,true,false,false,false,false,false,false,false,false,false,false,false,false,false,false,false,false]}],\"label\":\"1381.25\",\"method\":\"update\"},{\"args\":[{\"visible\":[false,null,null,null,null,null,\"legendonly\",\"legendonly\",\"legendonly\",false,false,false,false,false,false,false,false,false,false,false,false,false,false,false,false,false,false,false,false,false,true,false,false,false,false,false,false,false,false,false,false,false,false,false,false,false]}],\"label\":\"1473.33\",\"method\":\"update\"},{\"args\":[{\"visible\":[false,null,null,null,null,null,\"legendonly\",\"legendonly\",\"legendonly\",false,false,false,false,false,false,false,false,false,false,false,false,false,false,false,false,false,false,false,false,false,false,true,false,false,false,false,false,false,false,false,false,false,false,false,false,false]}],\"label\":\"1565.42\",\"method\":\"update\"},{\"args\":[{\"visible\":[false,null,null,null,null,null,\"legendonly\",\"legendonly\",\"legendonly\",false,false,false,false,false,false,false,false,false,false,false,false,false,false,false,false,false,false,false,false,false,false,false,true,false,false,false,false,false,false,false,false,false,false,false,false,false]}],\"label\":\"1657.5\",\"method\":\"update\"},{\"args\":[{\"visible\":[false,null,null,null,null,null,\"legendonly\",\"legendonly\",\"legendonly\",false,false,false,false,false,false,false,false,false,false,false,false,false,false,false,false,false,false,false,false,false,false,false,false,true,false,false,false,false,false,false,false,false,false,false,false,false]}],\"label\":\"1749.58\",\"method\":\"update\"},{\"args\":[{\"visible\":[false,null,null,null,null,null,\"legendonly\",\"legendonly\",\"legendonly\",false,false,false,false,false,false,false,false,false,false,false,false,false,false,false,false,false,false,false,false,false,false,false,false,false,true,false,false,false,false,false,false,false,false,false,false,false]}],\"label\":\"1841.67\",\"method\":\"update\"},{\"args\":[{\"visible\":[false,null,null,null,null,null,\"legendonly\",\"legendonly\",\"legendonly\",false,false,false,false,false,false,false,false,false,false,false,false,false,false,false,false,false,false,false,false,false,false,false,false,false,false,true,false,false,false,false,false,false,false,false,false,false]}],\"label\":\"1933.75\",\"method\":\"update\"},{\"args\":[{\"visible\":[false,null,null,null,null,null,\"legendonly\",\"legendonly\",\"legendonly\",false,false,false,false,false,false,false,false,false,false,false,false,false,false,false,false,false,false,false,false,false,false,false,false,false,false,false,true,false,false,false,false,false,false,false,false,false]}],\"label\":\"2025.83\",\"method\":\"update\"},{\"args\":[{\"visible\":[false,null,null,null,null,null,\"legendonly\",\"legendonly\",\"legendonly\",false,false,false,false,false,false,false,false,false,false,false,false,false,false,false,false,false,false,false,false,false,false,false,false,false,false,false,false,true,false,false,false,false,false,false,false,false]}],\"label\":\"2117.92\",\"method\":\"update\"}],\"tickcolor\":\"white\",\"ticklen\":0,\"x\":0.6052631578947368,\"xanchor\":\"left\",\"y\":0.01,\"yanchor\":\"bottom\"},{\"active\":0,\"currentvalue\":{\"prefix\":\"Iteration: \"},\"len\":0.39473684210526316,\"lenmode\":\"fraction\",\"steps\":[{\"args\":[{\"visible\":[false,null,null,null,null,null,\"legendonly\",\"legendonly\",\"legendonly\",false,false,false,false,false,false,false,false,false,false,false,false,false,false,false,false,false,false,false,false,false,false,false,false,false,false,false,false,false,false,true,false,false,false,false,true,true]}],\"label\":\"0\",\"method\":\"update\"},{\"args\":[{\"visible\":[false,null,null,null,null,null,\"legendonly\",\"legendonly\",\"legendonly\",false,false,false,false,false,false,false,false,false,false,false,false,false,false,false,false,false,false,false,false,false,false,false,false,false,false,false,false,false,false,false,true,false,true,false,true,true]}],\"label\":\"\",\"method\":\"update\"},{\"args\":[{\"visible\":[false,null,null,null,null,null,\"legendonly\",\"legendonly\",\"legendonly\",false,false,false,false,false,false,false,false,false,false,false,false,false,false,false,false,false,false,false,false,false,false,false,false,false,false,false,false,false,false,false,true,true,false,true,true,true]}],\"label\":\"1\",\"method\":\"update\"}],\"tickcolor\":\"white\",\"ticklen\":0,\"x\":0.6052631578947368,\"xanchor\":\"left\",\"y\":0.17,\"yanchor\":\"bottom\"}]},                        {\"doubleClick\": false, \"displayModeBar\": false, \"editable\": false, \"responsive\": false, \"showAxisDragHandles\": false, \"showAxisRangeEntryBoxes\": false}                    ).then(function(){\n                            \nvar gd = document.getElementById('699fd232-e4d5-4241-b622-b3b724e277a9');\nvar x = new MutationObserver(function (mutations, observer) {{\n        var display = window.getComputedStyle(gd).display;\n        if (!display || display === 'none') {{\n            console.log([gd, 'removed!']);\n            Plotly.purge(gd);\n            observer.disconnect();\n        }}\n}});\n\n// Listen for the removal of the full notebook cells\nvar notebookContainer = gd.closest('#notebook-container');\nif (notebookContainer) {{\n    x.observe(notebookContainer, {childList: true});\n}}\n\n// Listen for the clearing of the current output cell\nvar outputEl = gd.closest('.output');\nif (outputEl) {{\n    x.observe(outputEl, {childList: true});\n}}\n\n                        })                };                });            </script>        </div>"
     },
     "metadata": {},
     "output_type": "display_data"
    }
   ],
   "source": [
    "from gilp.simplex import LP\n",
    "from gilp.visualize import simplex_visual\n",
    "\n",
    "\n",
    "obj=[[20],[10],[5]]\n",
    "\n",
    "lhs=[[1,1,1],\n",
    "     [-2,-1,-1],\n",
    "     [2,1.5,0.5]]\n",
    "\n",
    "rhs=[[100],[-120],[110]]\n",
    "lp = LP(lhs, rhs, obj)\n",
    "simplex_visual(lp).show()\n",
    "\n",
    "\n"
   ],
   "metadata": {
    "collapsed": false,
    "ExecuteTime": {
     "end_time": "2023-11-09T17:45:01.662718700Z",
     "start_time": "2023-11-09T17:45:01.452257Z"
    }
   },
   "id": "75d0cedc552bed3d"
  },
  {
   "cell_type": "code",
   "execution_count": null,
   "outputs": [],
   "source": [],
   "metadata": {
    "collapsed": false
   },
   "id": "3479326ffcf041fb"
  }
 ],
 "metadata": {
  "kernelspec": {
   "display_name": "Python 3",
   "language": "python",
   "name": "python3"
  },
  "language_info": {
   "codemirror_mode": {
    "name": "ipython",
    "version": 2
   },
   "file_extension": ".py",
   "mimetype": "text/x-python",
   "name": "python",
   "nbconvert_exporter": "python",
   "pygments_lexer": "ipython2",
   "version": "2.7.6"
  }
 },
 "nbformat": 4,
 "nbformat_minor": 5
}
